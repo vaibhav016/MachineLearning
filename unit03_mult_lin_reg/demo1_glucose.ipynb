{
 "cells": [
  {
   "cell_type": "markdown",
   "metadata": {},
   "source": [
    "# Demo:  Predicting Glucose Levels using Mulitple Linear Regression"
   ]
  },
  {
   "cell_type": "markdown",
   "metadata": {},
   "source": [
    "In this demo, you will learn how to:\n",
    "* Fit multiple linear regression models using python's `sklearn` package.  \n",
    "* Split data into training and test.\n",
    "* Manipulate and visualize multivariable arrays.\n",
    "\n",
    "We first load the packages as usual."
   ]
  },
  {
   "cell_type": "code",
   "execution_count": 1,
   "metadata": {},
   "outputs": [],
   "source": [
    "import numpy as np\n",
    "import matplotlib\n",
    "import matplotlib.pyplot as plt\n",
    "%matplotlib inline"
   ]
  },
  {
   "cell_type": "code",
   "execution_count": 18,
   "metadata": {},
   "outputs": [
    {
     "name": "stdout",
     "output_type": "stream",
     "text": [
      "Model: \"model_7\"\n",
      "_________________________________________________________________\n",
      "Layer (type)                 Output Shape              Param #   \n",
      "=================================================================\n",
      "input_13 (InputLayer)        [(None, 4000)]            0         \n",
      "_________________________________________________________________\n",
      "reshape_12 (Reshape)         (None, 4000, 1)           0         \n",
      "_________________________________________________________________\n",
      "conv1d_24 (Conv1D)           (None, 398, 80)           2480      \n",
      "_________________________________________________________________\n",
      "max_pooling1d_21 (MaxPooling (None, 132, 80)           0         \n",
      "_________________________________________________________________\n",
      "activation_27 (Activation)   (None, 132, 80)           0         \n",
      "=================================================================\n",
      "Total params: 2,480\n",
      "Trainable params: 2,480\n",
      "Non-trainable params: 0\n",
      "_________________________________________________________________\n"
     ]
    }
   ],
   "source": [
    "import keras\n",
    "import tensorflow as K\n",
    "## Rank-1\n",
    "\n",
    "inputFeatDim = 4000\n",
    "outputFeatDim = 144\n",
    "\n",
    "## Construct input and output\n",
    "x = keras.layers.Input (shape=(inputFeatDim,))\n",
    "y = keras.layers.Reshape((inputFeatDim, 1)) (x)\n",
    "\n",
    "## First layer\n",
    "y = keras.layers.Conv1D(filters=80, kernel_size=30, strides=10) (y)\n",
    "y = keras.layers.pooling.MaxPooling1D(3) (y)\n",
    "y = keras.layers.Activation('relu') (y)\n",
    "\n",
    "m = keras.models.Model (inputs=x, outputs=y)\n",
    "m.summary()"
   ]
  },
  {
   "cell_type": "code",
   "execution_count": 19,
   "metadata": {
    "scrolled": true
   },
   "outputs": [
    {
     "name": "stdout",
     "output_type": "stream",
     "text": [
      "Model: \"model_8\"\n",
      "_________________________________________________________________\n",
      "Layer (type)                 Output Shape              Param #   \n",
      "=================================================================\n",
      "input_13 (InputLayer)        [(None, 4000)]            0         \n",
      "_________________________________________________________________\n",
      "reshape_12 (Reshape)         (None, 4000, 1)           0         \n",
      "_________________________________________________________________\n",
      "conv1d_24 (Conv1D)           (None, 398, 80)           2480      \n",
      "_________________________________________________________________\n",
      "max_pooling1d_21 (MaxPooling (None, 132, 80)           0         \n",
      "_________________________________________________________________\n",
      "activation_27 (Activation)   (None, 132, 80)           0         \n",
      "_________________________________________________________________\n",
      "conv1d_25 (Conv1D)           (None, 132, 60)           4860      \n",
      "_________________________________________________________________\n",
      "lambda_18 (Lambda)           (None, 132, 1, 60)        0         \n",
      "_________________________________________________________________\n",
      "depthwise_conv2d_7 (Depthwis (None, 126, 1, 60)        480       \n",
      "_________________________________________________________________\n",
      "lambda_19 (Lambda)           (None, 126, 60)           0         \n",
      "_________________________________________________________________\n",
      "max_pooling1d_22 (MaxPooling (None, 42, 60)            0         \n",
      "_________________________________________________________________\n",
      "activation_28 (Activation)   (None, 42, 60)            0         \n",
      "=================================================================\n",
      "Total params: 7,820\n",
      "Trainable params: 7,820\n",
      "Non-trainable params: 0\n",
      "_________________________________________________________________\n"
     ]
    }
   ],
   "source": [
    "## Second layer\n",
    "y = keras.layers.Conv1D(filters=60, kernel_size=1, strides=1) (y)\n",
    "y = keras.layers.Lambda(lambda x: K.expand_dims(x, axis=-2)) (y)\n",
    "y = keras.layers.DepthwiseConv2D(kernel_size=(7,1), strides=(1,1)) (y)\n",
    "y = keras.layers.Lambda(lambda x: K.squeeze(x, axis=-2)) (y)\n",
    "y = keras.layers.pooling.MaxPooling1D(3) (y)\n",
    "y = keras.layers.Activation('relu') (y)\n",
    "m = keras.models.Model (inputs=x, outputs=y)\n",
    "m.summary()"
   ]
  },
  {
   "cell_type": "code",
   "execution_count": 17,
   "metadata": {
    "scrolled": true
   },
   "outputs": [
    {
     "name": "stdout",
     "output_type": "stream",
     "text": [
      "Model: \"model_6\"\n",
      "_________________________________________________________________\n",
      "Layer (type)                 Output Shape              Param #   \n",
      "=================================================================\n",
      "input_12 (InputLayer)        [(None, 4000)]            0         \n",
      "_________________________________________________________________\n",
      "reshape_11 (Reshape)         (None, 4000, 1)           0         \n",
      "_________________________________________________________________\n",
      "conv1d_21 (Conv1D)           (None, 398, 80)           2480      \n",
      "_________________________________________________________________\n",
      "max_pooling1d_19 (MaxPooling (None, 132, 80)           0         \n",
      "_________________________________________________________________\n",
      "activation_25 (Activation)   (None, 132, 80)           0         \n",
      "_________________________________________________________________\n",
      "conv1d_22 (Conv1D)           (None, 132, 60)           4860      \n",
      "_________________________________________________________________\n",
      "conv1d_23 (Conv1D)           (None, 126, 60)           25260     \n",
      "_________________________________________________________________\n",
      "max_pooling1d_20 (MaxPooling (None, 42, 60)            0         \n",
      "_________________________________________________________________\n",
      "activation_26 (Activation)   (None, 42, 60)            0         \n",
      "=================================================================\n",
      "Total params: 32,600\n",
      "Trainable params: 32,600\n",
      "Non-trainable params: 0\n",
      "_________________________________________________________________\n"
     ]
    }
   ],
   "source": [
    "inputFeatDim = 4000\n",
    "outputFeatDim = 144\n",
    "\n",
    "## Construct input and output\n",
    "x = keras.layers.Input (shape=(inputFeatDim,))\n",
    "y = keras.layers.Reshape((inputFeatDim, 1)) (x)\n",
    "\n",
    "## First layer\n",
    "y = keras.layers.Conv1D(filters=80, kernel_size=30, strides=10) (y)\n",
    "y = keras.layers.pooling.MaxPooling1D(3) (y)\n",
    "y = keras.layers.Activation('relu') (y)\n",
    "\n",
    "## Second layer\n",
    "y = keras.layers.Conv1D(filters=60, kernel_size=1, strides=1) (y)\n",
    "# y = keras.layers.Lambda(lambda x: K.expand_dims(x, axis=-2)) (y)\n",
    "y = keras.layers.Conv1D(filters=60, kernel_size=7, strides=1) (y)\n",
    "# y = keras.layers.Lambda(lambda x: K.squeeze(x, axis=-2)) (y)\n",
    "y = keras.layers.pooling.MaxPooling1D(3) (y)\n",
    "y = keras.layers.Activation('relu') (y)\n",
    "m = keras.models.Model (inputs=x, outputs=y)\n",
    "m.summary()"
   ]
  },
  {
   "cell_type": "code",
   "execution_count": 20,
   "metadata": {},
   "outputs": [
    {
     "name": "stdout",
     "output_type": "stream",
     "text": [
      "Model: \"model_9\"\n",
      "_________________________________________________________________\n",
      "Layer (type)                 Output Shape              Param #   \n",
      "=================================================================\n",
      "input_14 (InputLayer)        [(None, 4000)]            0         \n",
      "_________________________________________________________________\n",
      "reshape_13 (Reshape)         (None, 4000, 1)           0         \n",
      "_________________________________________________________________\n",
      "conv1d_26 (Conv1D)           (None, 398, 80)           2480      \n",
      "_________________________________________________________________\n",
      "max_pooling1d_23 (MaxPooling (None, 132, 80)           0         \n",
      "_________________________________________________________________\n",
      "activation_29 (Activation)   (None, 132, 80)           0         \n",
      "_________________________________________________________________\n",
      "conv1d_27 (Conv1D)           (None, 132, 60)           4860      \n",
      "_________________________________________________________________\n",
      "separable_conv1d (SeparableC (None, 126, 60)           4080      \n",
      "_________________________________________________________________\n",
      "max_pooling1d_24 (MaxPooling (None, 42, 60)            0         \n",
      "_________________________________________________________________\n",
      "activation_30 (Activation)   (None, 42, 60)            0         \n",
      "=================================================================\n",
      "Total params: 11,420\n",
      "Trainable params: 11,420\n",
      "Non-trainable params: 0\n",
      "_________________________________________________________________\n"
     ]
    }
   ],
   "source": [
    "inputFeatDim = 4000\n",
    "outputFeatDim = 144\n",
    "\n",
    "## Construct input and output\n",
    "x = keras.layers.Input (shape=(inputFeatDim,))\n",
    "y = keras.layers.Reshape((inputFeatDim, 1)) (x)\n",
    "\n",
    "## First layer\n",
    "y = keras.layers.Conv1D(filters=80, kernel_size=30, strides=10) (y)\n",
    "y = keras.layers.pooling.MaxPooling1D(3) (y)\n",
    "y = keras.layers.Activation('relu') (y)\n",
    "\n",
    "## Second layer\n",
    "y = keras.layers.Conv1D(filters=60, kernel_size=1, strides=1) (y)\n",
    "# y = keras.layers.Lambda(lambda x: K.expand_dims(x, axis=-2)) (y)\n",
    "y = keras.layers.SeparableConv1D(filters=60, kernel_size=7, strides=1) (y)\n",
    "# y = keras.layers.Lambda(lambda x: K.squeeze(x, axis=-2)) (y)\n",
    "y = keras.layers.pooling.MaxPooling1D(3) (y)\n",
    "y = keras.layers.Activation('relu') (y)\n",
    "m = keras.models.Model (inputs=x, outputs=y)\n",
    "m.summary()"
   ]
  },
  {
   "cell_type": "code",
   "execution_count": 5,
   "metadata": {},
   "outputs": [],
   "source": [
    "import keras\n",
    "import tensorflow as K\n",
    "## Rank-1\n",
    "\n",
    "inputFeatDim = 4000\n",
    "outputFeatDim = 144\n",
    "\n",
    "## Construct input and output\n",
    "x = keras.layers.Input (shape=(inputFeatDim,))\n",
    "y = keras.layers.Reshape((inputFeatDim, 1)) (x)\n",
    "\n",
    "## First layer\n",
    "y = keras.layers.Conv1D(filters=80, kernel_size=30, strides=10) (y)\n",
    "y = keras.layers.pooling.MaxPooling1D(3) (y)\n",
    "y = keras.layers.Activation('relu') (y)\n",
    "\n",
    "## Second layer\n",
    "y = keras.layers.Conv1D(filters=60, kernel_size=1, strides=1) (y)\n",
    "y = keras.layers.Lambda(lambda x: K.expand_dims(x, axis=-2)) (y)\n",
    "y = keras.layers.DepthwiseConv2D(kernel_size=(7,1), strides=(1,1)) (y)\n",
    "y = keras.layers.Lambda(lambda x: K.squeeze(x, axis=-2)) (y)\n",
    "y = keras.layers.pooling.MaxPooling1D(3) (y)\n",
    "y = keras.layers.Activation('relu') (y)\n",
    "\n",
    "## Third layer\n",
    "y = keras.layers.Conv1D(filters=60, kernel_size=1, strides=1) (y)\n",
    "y = keras.layers.Lambda(lambda x: K.expand_dims(x, axis=-2)) (y)\n",
    "y = keras.layers.DepthwiseConv2D(kernel_size=(7,1), strides=(1,1)) (y)\n",
    "y = keras.layers.Lambda(lambda x: K.squeeze(x, axis=-2)) (y)\n",
    "y = keras.layers.pooling.MaxPooling1D(3) (y)\n",
    "y = keras.layers.Activation('relu') (y)\n",
    "\n",
    "## MLP\n",
    "y = keras.layers.Flatten() (y)\n",
    "y = keras.layers.Dense(1024) (y)\n",
    "y = keras.layers.Activation('relu') (y)\n",
    "y = keras.layers.Dense(outputFeatDim) (y)\n",
    "y = keras.layers.Activation('softmax') (y)\n",
    "## Define the model\n",
    "m = keras.models.Model (inputs=x, outputs=y)"
   ]
  },
  {
   "cell_type": "code",
   "execution_count": 7,
   "metadata": {},
   "outputs": [
    {
     "name": "stdout",
     "output_type": "stream",
     "text": [
      "Model: \"model_2\"\n",
      "_________________________________________________________________\n",
      "Layer (type)                 Output Shape              Param #   \n",
      "=================================================================\n",
      "input_4 (InputLayer)         [(None, 4000)]            0         \n",
      "_________________________________________________________________\n",
      "reshape_3 (Reshape)          (None, 4000, 1)           0         \n",
      "_________________________________________________________________\n",
      "conv1d_8 (Conv1D)            (None, 398, 80)           2480      \n",
      "_________________________________________________________________\n",
      "max_pooling1d_7 (MaxPooling1 (None, 132, 80)           0         \n",
      "_________________________________________________________________\n",
      "activation_11 (Activation)   (None, 132, 80)           0         \n",
      "_________________________________________________________________\n",
      "conv1d_9 (Conv1D)            (None, 132, 60)           4860      \n",
      "_________________________________________________________________\n",
      "lambda_9 (Lambda)            (None, 132, 1, 60)        0         \n",
      "_________________________________________________________________\n",
      "depthwise_conv2d_4 (Depthwis (None, 126, 1, 60)        480       \n",
      "_________________________________________________________________\n",
      "lambda_10 (Lambda)           (None, 126, 60)           0         \n",
      "_________________________________________________________________\n",
      "max_pooling1d_8 (MaxPooling1 (None, 42, 60)            0         \n",
      "_________________________________________________________________\n",
      "activation_12 (Activation)   (None, 42, 60)            0         \n",
      "_________________________________________________________________\n",
      "conv1d_10 (Conv1D)           (None, 42, 60)            3660      \n",
      "_________________________________________________________________\n",
      "lambda_11 (Lambda)           (None, 42, 1, 60)         0         \n",
      "_________________________________________________________________\n",
      "depthwise_conv2d_5 (Depthwis (None, 36, 1, 60)         480       \n",
      "_________________________________________________________________\n",
      "lambda_12 (Lambda)           (None, 36, 60)            0         \n",
      "_________________________________________________________________\n",
      "max_pooling1d_9 (MaxPooling1 (None, 12, 60)            0         \n",
      "_________________________________________________________________\n",
      "activation_13 (Activation)   (None, 12, 60)            0         \n",
      "_________________________________________________________________\n",
      "flatten_2 (Flatten)          (None, 720)               0         \n",
      "_________________________________________________________________\n",
      "dense_4 (Dense)              (None, 1024)              738304    \n",
      "_________________________________________________________________\n",
      "activation_14 (Activation)   (None, 1024)              0         \n",
      "_________________________________________________________________\n",
      "dense_5 (Dense)              (None, 144)               147600    \n",
      "_________________________________________________________________\n",
      "activation_15 (Activation)   (None, 144)               0         \n",
      "=================================================================\n",
      "Total params: 897,864\n",
      "Trainable params: 897,864\n",
      "Non-trainable params: 0\n",
      "_________________________________________________________________\n"
     ]
    }
   ],
   "source": [
    "m.summary()"
   ]
  },
  {
   "cell_type": "code",
   "execution_count": null,
   "metadata": {},
   "outputs": [],
   "source": [
    "\n",
    "\n",
    "## Diabetes Data Example\n",
    "To illustrate the concepts, we load the well-known diabetes data set.  This dataset is included in the `sklearn.datasets` module and can be loaded as follows.\n",
    "\n",
    "from sklearn import datasets, linear_model\n",
    "\n",
    "# Load the diabetes dataset\n",
    "diabetes = datasets.load_diabetes()\n",
    "X = diabetes.data\n",
    "y = diabetes.target"
   ]
  },
  {
   "cell_type": "markdown",
   "metadata": {},
   "source": [
    "We can print a description of the data as follows:"
   ]
  },
  {
   "cell_type": "code",
   "execution_count": 3,
   "metadata": {},
   "outputs": [
    {
     "name": "stdout",
     "output_type": "stream",
     "text": [
      ".. _diabetes_dataset:\n",
      "\n",
      "Diabetes dataset\n",
      "----------------\n",
      "\n",
      "Ten baseline variables, age, sex, body mass index, average blood\n",
      "pressure, and six blood serum measurements were obtained for each of n =\n",
      "442 diabetes patients, as well as the response of interest, a\n",
      "quantitative measure of disease progression one year after baseline.\n",
      "\n",
      "**Data Set Characteristics:**\n",
      "\n",
      "  :Number of Instances: 442\n",
      "\n",
      "  :Number of Attributes: First 10 columns are numeric predictive values\n",
      "\n",
      "  :Target: Column 11 is a quantitative measure of disease progression one year after baseline\n",
      "\n",
      "  :Attribute Information:\n",
      "      - age     age in years\n",
      "      - sex\n",
      "      - bmi     body mass index\n",
      "      - bp      average blood pressure\n",
      "      - s1      tc, T-Cells (a type of white blood cells)\n",
      "      - s2      ldl, low-density lipoproteins\n",
      "      - s3      hdl, high-density lipoproteins\n",
      "      - s4      tch, thyroid stimulating hormone\n",
      "      - s5      ltg, lamotrigine\n",
      "      - s6      glu, blood sugar level\n",
      "\n",
      "Note: Each of these 10 feature variables have been mean centered and scaled by the standard deviation times `n_samples` (i.e. the sum of squares of each column totals 1).\n",
      "\n",
      "Source URL:\n",
      "https://www4.stat.ncsu.edu/~boos/var.select/diabetes.html\n",
      "\n",
      "For more information see:\n",
      "Bradley Efron, Trevor Hastie, Iain Johnstone and Robert Tibshirani (2004) \"Least Angle Regression,\" Annals of Statistics (with discussion), 407-499.\n",
      "(https://web.stanford.edu/~hastie/Papers/LARS/LeastAngle_2002.pdf)\n"
     ]
    }
   ],
   "source": [
    "print(diabetes.DESCR)"
   ]
  },
  {
   "cell_type": "markdown",
   "metadata": {},
   "source": [
    "The target values are stored in the vector `y`.  The attributes for the diabetes data are stored in a data matrix, `X`.  The size is is number of samples (442) x number of attributes (10)."
   ]
  },
  {
   "cell_type": "code",
   "execution_count": 4,
   "metadata": {},
   "outputs": [
    {
     "name": "stdout",
     "output_type": "stream",
     "text": [
      "num samples=442  num attributes=10\n"
     ]
    }
   ],
   "source": [
    "nsamp, natt = X.shape\n",
    "print(\"num samples={0:d}  num attributes={1:d}\".format(nsamp,natt))"
   ]
  },
  {
   "cell_type": "markdown",
   "metadata": {},
   "source": [
    "In class exercise: Print the (normalized) ages of the first 5 subjects?"
   ]
  },
  {
   "cell_type": "code",
   "execution_count": 5,
   "metadata": {},
   "outputs": [
    {
     "name": "stdout",
     "output_type": "stream",
     "text": [
      "[ 0.03807591 -0.00188202  0.08529891 -0.08906294  0.00538306]\n"
     ]
    }
   ],
   "source": [
    "#TODO\n",
    "print(X[0:5,0])"
   ]
  },
  {
   "cell_type": "markdown",
   "metadata": {},
   "source": [
    "In-class exercise:   Print the attributes S1-S3 for subjects 10-15"
   ]
  },
  {
   "cell_type": "code",
   "execution_count": 6,
   "metadata": {},
   "outputs": [
    {
     "name": "stdout",
     "output_type": "stream",
     "text": [
      "[[-1.25765827e-02 -3.45076144e-02 -2.49926566e-02]\n",
      " [-1.03389471e-01 -9.05611890e-02 -1.39477432e-02]\n",
      " [-7.07277125e-03  4.59715403e-02 -6.54906725e-02]\n",
      " [-4.32086554e-03 -9.76888589e-03  4.49584616e-02]\n",
      " [-4.32086554e-03 -1.57187067e-02 -2.90282981e-03]\n",
      " [ 1.76943802e-02 -6.12835791e-05  8.17748397e-02]]\n"
     ]
    }
   ],
   "source": [
    "#TODO\n",
    "print(X[9:15,4:7])"
   ]
  },
  {
   "cell_type": "markdown",
   "metadata": {},
   "source": [
    "In class exercise:  Create a scatter plot of the target variable, `y` vs. the BMI.  Does there seem to be a relation?  What about `y` vs. the age?  Which is a better predictor?  "
   ]
  },
  {
   "cell_type": "code",
   "execution_count": 7,
   "metadata": {},
   "outputs": [
    {
     "data": {
      "text/plain": [
       "Text(0, 0.5, 'Target')"
      ]
     },
     "execution_count": 7,
     "metadata": {},
     "output_type": "execute_result"
    },
    {
     "data": {
      "image/png": "[encoded data removed]",
      "text/plain": [
       "<Figure size 432x288 with 1 Axes>"
      ]
     },
     "metadata": {
      "needs_background": "light"
     },
     "output_type": "display_data"
    }
   ],
   "source": [
    "#TODO\n",
    "plt.plot(X[:,2],y,'o')\n",
    "plt.xlabel('BMI')\n",
    "plt.ylabel('Target')"
   ]
  },
  {
   "cell_type": "markdown",
   "metadata": {},
   "source": [
    "## Using Simple Linear Regression for Each Feature Individually\n",
    "\n",
    "As a first attempt to predict the glucouse level, we could try *one attribute at a time*.  That is, for each attribute $x_k$, we could attempt to fit a [simple linear regression](../simp_lin_reg/readme.md) model:\n",
    "$$ \\hat{y} = \\beta_{0,k} + \\beta_{1,k}x_k$$\n",
    "where $\\beta_{0,k}$ and $\\beta_{1,k}$ are the coefficients in the simple linear regression model using only the attribute $x_k$.\n",
    "\n",
    "Now, we saw in class, that the goodness of fit in a simple linear regression model is given by the coefficient of determination.  Let $R_k^2$ be the coefficient for predicting $y$ from the $k$-th predictor $x_k$:\n",
    "$$R^2_k = \\frac{|s_{x_k,y}|^2}{s_{x_k}^2 s_y^2}.$$\n",
    "The following code computes $R^2_k$ for each variable $k$ as well as the coefficients in the linear model, $\\beta_{0,k}$ and $\\beta_{1,k}$"
   ]
  },
  {
   "cell_type": "code",
   "execution_count": 8,
   "metadata": {
    "scrolled": true
   },
   "outputs": [
    {
     "name": "stdout",
     "output_type": "stream",
     "text": [
      " 0 Rsq=0.035302 beta0=152.133484 beta1=304.183075\n",
      " 1 Rsq=0.001854 beta0=152.133484 beta1=69.715356\n",
      " 2 Rsq=0.343924 beta0=152.133484 beta1=949.435260\n",
      " 3 Rsq=0.194908 beta0=152.133484 beta1=714.741644\n",
      " 4 Rsq=0.044954 beta0=152.133484 beta1=343.254452\n",
      " 5 Rsq=0.030295 beta0=152.133484 beta1=281.784593\n",
      " 6 Rsq=0.155859 beta0=152.133484 beta1=-639.145279\n",
      " 7 Rsq=0.185290 beta0=152.133484 beta1=696.883030\n",
      " 8 Rsq=0.320224 beta0=152.133484 beta1=916.138723\n",
      " 9 Rsq=0.146294 beta0=152.133484 beta1=619.222821\n"
     ]
    }
   ],
   "source": [
    "ym = np.mean(y)\n",
    "syy = np.mean((y-ym)**2)\n",
    "Rsq = np.zeros(natt)\n",
    "beta0 = np.zeros(natt)\n",
    "beta1 = np.zeros(natt)\n",
    "for k in range(natt):\n",
    "    xm = np.mean(X[:,k])\n",
    "    sxy = np.mean((X[:,k]-xm)*(y-ym))\n",
    "    sxx = np.mean((X[:,k]-xm)**2)\n",
    "    beta1[k] = sxy/sxx\n",
    "    beta0[k] = ym - beta1[k]*xm\n",
    "    Rsq[k] = (sxy)**2/sxx/syy\n",
    "    \n",
    "    print(\"{0:2d} Rsq={1:f} beta0={2:f} beta1={3:f}\".format(k,Rsq[k],beta0[k],beta1[k]))\n",
    "    "
   ]
  },
  {
   "cell_type": "markdown",
   "metadata": {},
   "source": [
    "We see that the best $R^2_k = 0.34$.  That is, only about 34% of the variance is explained by a linear model with any one variable.  We can see this somewhat poor fit in the scatter plot as well where there is a significat variation from the regression line.\n",
    "Also notice that beta0 are all the same no matter which attribute is used to predict the target!"
   ]
  },
  {
   "cell_type": "code",
   "execution_count": 9,
   "metadata": {},
   "outputs": [
    {
     "data": {
      "image/png": "[encoded data removed]",
      "text/plain": [
       "<Figure size 432x288 with 1 Axes>"
      ]
     },
     "metadata": {
      "needs_background": "light"
     },
     "output_type": "display_data"
    }
   ],
   "source": [
    "# Find the index of the single variable with the best R^2\n",
    "imax = np.argmax(Rsq)\n",
    "\n",
    "# Regression line over the range of x values\n",
    "xmin = np.min(X[:,imax])\n",
    "xmax = np.max(X[:,imax])\n",
    "ymin = beta0[imax] + beta1[imax]*xmin\n",
    "ymax = beta0[imax] + beta1[imax]*xmax\n",
    "plt.plot([xmin,xmax], [ymin,ymax], 'r-', linewidth=3)\n",
    "\n",
    "# Scatter plot of points\n",
    "plt.scatter(X[:,imax],y)\n",
    "plt.grid()"
   ]
  },
  {
   "cell_type": "markdown",
   "metadata": {},
   "source": [
    "Note that the calculations above could have been done without a for-loop using Python broadcasting:"
   ]
  },
  {
   "cell_type": "code",
   "execution_count": 10,
   "metadata": {},
   "outputs": [],
   "source": [
    "# Remove the means\n",
    "ym = np.mean(y) \n",
    "y1 = y-ym  # a column vecotor each minus mean\n",
    "Xm = np.mean(X,axis=0) # averaging over column, resulting a row vector of dimension natt\n",
    "X1 = X - Xm[None,:] # minus the same mean in each column\n",
    "\n",
    "\n",
    "# Compute the correlations per features\n",
    "syy = np.mean(y1**2)\n",
    "Sxx = np.mean(X1**2,axis=0) #a row vector with each element indicating the variance of one attribute\n",
    "Sxy = np.mean(X1*y1[:,None],axis=0) #a row vector with each element indicating the covarance on one attribute to the targer\n",
    "\n",
    "# Compute the coefficients and R^2 value per feature\n",
    "beta1 = Sxy/Sxx # element wise division, resulting a row vector containing  beta1 for each attribute\n",
    "beta0 = ym - beta1*Xm # element wise multiplication, resulting a row vector containing beta0 for each attribute\n",
    "Rsq = Sxy**2/Sxx/syy #a row vector containing Rsq for each attribute"
   ]
  },
  {
   "cell_type": "markdown",
   "metadata": {},
   "source": [
    "Now let us see whether we get the same result:"
   ]
  },
  {
   "cell_type": "code",
   "execution_count": 11,
   "metadata": {},
   "outputs": [
    {
     "name": "stdout",
     "output_type": "stream",
     "text": [
      " 0 Rsq=0.035302 beta0=152.133484 beta1=304.183075\n",
      " 1 Rsq=0.001854 beta0=152.133484 beta1=69.715356\n",
      " 2 Rsq=0.343924 beta0=152.133484 beta1=949.435260\n",
      " 3 Rsq=0.194908 beta0=152.133484 beta1=714.741644\n",
      " 4 Rsq=0.044954 beta0=152.133484 beta1=343.254452\n",
      " 5 Rsq=0.030295 beta0=152.133484 beta1=281.784593\n",
      " 6 Rsq=0.155859 beta0=152.133484 beta1=-639.145279\n",
      " 7 Rsq=0.185290 beta0=152.133484 beta1=696.883030\n",
      " 8 Rsq=0.320224 beta0=152.133484 beta1=916.138723\n",
      " 9 Rsq=0.146294 beta0=152.133484 beta1=619.222821\n"
     ]
    }
   ],
   "source": [
    "for k in range(natt):\n",
    "    print(\"{0:2d} Rsq={1:f} beta0={2:f} beta1={3:f}\".format(k,Rsq[k],beta0[k],beta1[k]))"
   ]
  },
  {
   "cell_type": "markdown",
   "metadata": {},
   "source": [
    "## Improvements with a Multiple Variable Linear Model\n",
    "\n",
    "One possible way to try to improve the fit is to use multiple variables at the same time.  We can fit the multipe linear model using the `sklearn` package.  \n",
    "\n",
    "For reasons that we will explain in the next demo, we need to split the data into two parts:  one part for training the model and a second part for testing the fit.  In this example, we will use `ns_test=300` samples for training and the remaining `ns_test=442-300=142` for testing."
   ]
  },
  {
   "cell_type": "code",
   "execution_count": 12,
   "metadata": {},
   "outputs": [],
   "source": [
    "ns_train = 300\n",
    "ns_test = nsamp - ns_train\n",
    "X_tr = X[:ns_train,:]     # Gets the first ns_train rows of X\n",
    "y_tr = y[:ns_train]       # Gets the correspoinding rows of y"
   ]
  },
  {
   "cell_type": "markdown",
   "metadata": {},
   "source": [
    "To fit the linear model, we first create a regression object and then fit the data with regression object."
   ]
  },
  {
   "cell_type": "code",
   "execution_count": 13,
   "metadata": {},
   "outputs": [
    {
     "data": {
      "text/plain": [
       "LinearRegression()"
      ]
     },
     "execution_count": 13,
     "metadata": {},
     "output_type": "execute_result"
    }
   ],
   "source": [
    "regr = linear_model.LinearRegression()\n",
    "regr.fit(X_tr,y_tr)"
   ]
  },
  {
   "cell_type": "markdown",
   "metadata": {},
   "source": [
    "You can see the coefficients"
   ]
  },
  {
   "cell_type": "code",
   "execution_count": 14,
   "metadata": {},
   "outputs": [
    {
     "data": {
      "text/plain": [
       "152.34786451820108"
      ]
     },
     "execution_count": 14,
     "metadata": {},
     "output_type": "execute_result"
    }
   ],
   "source": [
    "regr.intercept_"
   ]
  },
  {
   "cell_type": "code",
   "execution_count": 15,
   "metadata": {},
   "outputs": [
    {
     "data": {
      "text/plain": [
       "array([ -16.57607993, -254.66532396,  560.98630022,  278.91811152,\n",
       "       -393.41357305,   97.05460405,  -19.0023093 ,  169.46450327,\n",
       "        632.95050374,  114.21638941])"
      ]
     },
     "execution_count": 15,
     "metadata": {},
     "output_type": "execute_result"
    }
   ],
   "source": [
    "regr.coef_"
   ]
  },
  {
   "cell_type": "markdown",
   "metadata": {},
   "source": [
    "We next compute the RSS (per sample) and the R^2 on the training data"
   ]
  },
  {
   "cell_type": "code",
   "execution_count": 16,
   "metadata": {},
   "outputs": [
    {
     "name": "stdout",
     "output_type": "stream",
     "text": [
      "RSS per sample = 0.485281\n",
      "R^2 =            0.514719\n"
     ]
    }
   ],
   "source": [
    "y_tr_pred = regr.predict(X_tr)\n",
    "RSS_tr = np.mean((y_tr_pred-y_tr)**2)/(np.std(y_tr)**2)\n",
    "Rsq_tr = 1-RSS_tr\n",
    "print(\"RSS per sample = {0:f}\".format(RSS_tr))\n",
    "print(\"R^2 =            {0:f}\".format(Rsq_tr))"
   ]
  },
  {
   "cell_type": "markdown",
   "metadata": {},
   "source": [
    "We see R^2 is higher than the best single variable model -- more than 51% of the target variance is explained by the model instead of just 34% for the best single variable model.  \n",
    "\n",
    "We also create a scatter plot of predicted vs. actual"
   ]
  },
  {
   "cell_type": "code",
   "execution_count": 17,
   "metadata": {},
   "outputs": [
    {
     "data": {
      "image/png": "[encoded data removed]",
      "text/plain": [
       "<Figure size 432x288 with 1 Axes>"
      ]
     },
     "metadata": {
      "needs_background": "light"
     },
     "output_type": "display_data"
    }
   ],
   "source": [
    "plt.scatter(y_tr,y_tr_pred)\n",
    "plt.plot([0,350],[0,350],'r')\n",
    "plt.xlabel('Actual')\n",
    "plt.ylabel('Predicted')\n",
    "plt.grid()"
   ]
  },
  {
   "cell_type": "markdown",
   "metadata": {},
   "source": [
    "## Validate on Test Data\n",
    "\n",
    "As we will explain in the next lab, one should not evaluate the performance of a model on the data on which it is trained.  It is important to see how the model works on *new* data that is independent of the training data set.  For this reason, we will evaluate the model on the *test* samples that were not used in training."
   ]
  },
  {
   "cell_type": "code",
   "execution_count": 18,
   "metadata": {},
   "outputs": [
    {
     "name": "stdout",
     "output_type": "stream",
     "text": [
      "RSS per sample = 0.492801\n",
      "R^2 =            0.507199\n"
     ]
    }
   ],
   "source": [
    "X_test = X[ns_train:,:]\n",
    "y_test = y[ns_train:]\n",
    "y_test_pred = regr.predict(X_test)\n",
    "RSS_test = np.mean((y_test_pred-y_test)**2)/(np.std(y_test)**2)\n",
    "Rsq_test = 1-RSS_test\n",
    "print(\"RSS per sample = {0:f}\".format(RSS_test))\n",
    "print(\"R^2 =            {0:f}\".format(Rsq_test))"
   ]
  },
  {
   "cell_type": "markdown",
   "metadata": {},
   "source": [
    "We see that the model predicts new samples almost as well as it did the training samples.  We can also plot the fit on the test data."
   ]
  },
  {
   "cell_type": "code",
   "execution_count": 19,
   "metadata": {},
   "outputs": [
    {
     "data": {
      "image/png": "[encoded data removed]",
      "text/plain": [
       "<Figure size 432x288 with 1 Axes>"
      ]
     },
     "metadata": {
      "needs_background": "light"
     },
     "output_type": "display_data"
    }
   ],
   "source": [
    "plt.scatter(y_test,y_test_pred)\n",
    "plt.plot([0,350],[0,350],'r')\n",
    "plt.xlabel('Actual')\n",
    "plt.xlabel('Predicted')\n",
    "plt.grid()"
   ]
  },
  {
   "cell_type": "markdown",
   "metadata": {},
   "source": [
    "## Manually Computing the Coefficients"
   ]
  },
  {
   "cell_type": "code",
   "execution_count": 20,
   "metadata": {},
   "outputs": [
    {
     "data": {
      "text/plain": [
       "(300, 11)"
      ]
     },
     "execution_count": 20,
     "metadata": {},
     "output_type": "execute_result"
    }
   ],
   "source": [
    "ones = np.ones((ns_train,1))\n",
    "A = np.hstack((ones,X_tr))\n",
    "A.shape"
   ]
  },
  {
   "cell_type": "markdown",
   "metadata": {},
   "source": [
    "We next use the `lstsq` method to solve $\\mathbf{y} \\approx \\mathbf{A\\beta}$.  This will find the desired least-squares fit."
   ]
  },
  {
   "cell_type": "code",
   "execution_count": 21,
   "metadata": {},
   "outputs": [],
   "source": [
    "out = np.linalg.lstsq(A,y_tr,rcond=None)\n",
    "beta = out[0]"
   ]
  },
  {
   "cell_type": "markdown",
   "metadata": {},
   "source": [
    "We can see the coefficients"
   ]
  },
  {
   "cell_type": "code",
   "execution_count": 22,
   "metadata": {},
   "outputs": [
    {
     "data": {
      "text/plain": [
       "array([ 152.34786452,  -16.57607993, -254.66532396,  560.98630022,\n",
       "        278.91811152, -393.41357305,   97.05460405,  -19.0023093 ,\n",
       "        169.46450327,  632.95050374,  114.21638941])"
      ]
     },
     "execution_count": 22,
     "metadata": {},
     "output_type": "execute_result"
    }
   ],
   "source": [
    "beta"
   ]
  },
  {
   "cell_type": "markdown",
   "metadata": {},
   "source": [
    "We see that `beta[0]` mathches the intercept in `regr.intercept_` from the regression fit and `beta[1:]` matches the coefficients in `regr.coef_`."
   ]
  },
  {
   "cell_type": "code",
   "execution_count": 23,
   "metadata": {},
   "outputs": [
    {
     "data": {
      "text/plain": [
       "array([ -16.57607993, -254.66532396,  560.98630022,  278.91811152,\n",
       "       -393.41357305,   97.05460405,  -19.0023093 ,  169.46450327,\n",
       "        632.95050374,  114.21638941])"
      ]
     },
     "execution_count": 23,
     "metadata": {},
     "output_type": "execute_result"
    }
   ],
   "source": [
    "regr.coef_"
   ]
  },
  {
   "cell_type": "code",
   "execution_count": 24,
   "metadata": {},
   "outputs": [
    {
     "data": {
      "text/plain": [
       "152.34786451820108"
      ]
     },
     "execution_count": 24,
     "metadata": {},
     "output_type": "execute_result"
    }
   ],
   "source": [
    "regr.intercept_"
   ]
  },
  {
   "cell_type": "markdown",
   "metadata": {},
   "source": [
    "Now let us verify this is the same as direct matrix calculation.  For a small problem like this, it makes no difference.  But, in general, using a matrix inverse like this is *much* slower computationally than using either the `lstsq` method or the `LinearRegression` class.  So, **do not ever** solve a least squares problem like this."
   ]
  },
  {
   "cell_type": "code",
   "execution_count": 25,
   "metadata": {},
   "outputs": [
    {
     "name": "stdout",
     "output_type": "stream",
     "text": [
      "[ 152.34786452  -16.57607993 -254.66532396  560.98630022  278.91811152\n",
      " -393.41357305   97.05460405  -19.0023093   169.46450327  632.95050374\n",
      "  114.21638941]\n"
     ]
    }
   ],
   "source": [
    "beta = np.linalg.inv(A.T.dot(A)).dot(A.T.dot(y_tr))\n",
    "print(beta)"
   ]
  },
  {
   "cell_type": "markdown",
   "metadata": {
    "collapsed": true
   },
   "source": [
    "## In-Class Simple Exercise\n",
    "\n",
    "You are given target values `y` and features `x1` and `x2` below.  Fit the model on the first 4 data points and test the model on the fifth data point.  You may want to use the following steps\n",
    "\n",
    "*  Construct the training training data `X_tr,y_tr`\n",
    "*  Create a regression object `regr = linear_model.LinearRegression()`\n",
    "*  Fit the model with the `regr.fit()` method\n",
    "*  Predict the value on the test value with the `regr.predict()`"
   ]
  },
  {
   "cell_type": "code",
   "execution_count": 26,
   "metadata": {},
   "outputs": [],
   "source": [
    "x1 = np.array([0,1,3,5,4])\n",
    "x2 = np.array([0,0.7, 4.3, 15.1, 13.2])\n",
    "y = np.array([-2, -0.9, 1.5, 18, 13])\n",
    "\n",
    "# TODO"
   ]
  },
  {
   "cell_type": "code",
   "execution_count": null,
   "metadata": {},
   "outputs": [],
   "source": []
  }
 ],
 "metadata": {
  "anaconda-cloud": {},
  "kernelspec": {
   "display_name": "Python 3",
   "language": "python",
   "name": "python3"
  },
  "language_info": {
   "codemirror_mode": {
    "name": "ipython",
    "version": 3
   },
   "file_extension": ".py",
   "mimetype": "text/x-python",
   "name": "python",
   "nbconvert_exporter": "python",
   "pygments_lexer": "ipython3",
   "version": "3.8.5"
  }
 },
 "nbformat": 4,
 "nbformat_minor": 1
}
