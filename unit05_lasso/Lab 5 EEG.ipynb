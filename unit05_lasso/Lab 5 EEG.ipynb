{
 "cells": [
  {
   "cell_type": "markdown",
   "metadata": {},
   "source": [
    "\n",
    "# Lab:  Source Localization for EEG\n",
    "\n",
    "EEG or [Electroencephalography](https://en.wikipedia.org/wiki/Electroencephalography) is a powerful tool for neuroscientists in understanding brain activity.  In EEG, a patient wears a headset with electrodes that measures voltages at a number of points on the scalp.  These voltages arise from ionic currents within the brain.  A common *inverse problem* is to estimate the which parts of the brain caused the measured response.  Source localization is useful in understanding which parts of the brain are involved in certain tasks.  A key challenge in this inverse problem is that the number of unknowns (possible locations in the brain) is much larger than the number of measurements.  In this lab, we will use LASSO regression on a real EEG dataset to overcome this problem and determine the brain region that is active under an auditory stimulus.\n",
    "\n",
    "In addition to the concepts in the [prostate LASSO demo](./demo_prostate.ipynb) you will learn to:\n",
    "* Represent responses of multi-channel time-series data, such as EEG, using linear models\n",
    "* Perform LASSO and Ridge regression\n",
    "* Select the regularization level via cross-validation\n",
    "* Visually compare the sparsity between the solutions\n",
    "\n",
    "We first download standard packages."
   ]
  },
  {
   "cell_type": "code",
   "execution_count": 78,
   "metadata": {},
   "outputs": [],
   "source": [
    "import numpy as np\n",
    "import matplotlib.pyplot as plt\n",
    "import pickle\n",
    "\n",
    "from sklearn.linear_model import Lasso, Ridge, ElasticNet\n",
    "from sklearn.metrics import r2_score\n",
    "from sklearn.model_selection import train_test_split"
   ]
  },
  {
   "cell_type": "markdown",
   "metadata": {},
   "source": [
    "## Load the Data\n",
    "\n",
    "The data in this lab is taken from one of the sample datasets in the [MNE website](https://martinos.org/mne/stable/index.html). The sample data is a recording from one subject who experienced some auditory stimulus on the left ear.    \n",
    "\n",
    "The raw data is very large (`1.5G`) and also requires that you install the `mne` python package. To make this lab easier, I have extracted and processed a small section of the data. The following command will download a `pickle` file `eeg_dat.p` to your local machine.  If you do want to create the data yourself, the program to create the data is in this directory in the github repository."
   ]
  },
  {
   "cell_type": "code",
   "execution_count": 79,
   "metadata": {},
   "outputs": [
    {
     "name": "stdout",
     "output_type": "stream",
     "text": [
      "File eeg_dat.p is already downloaded\n"
     ]
    }
   ],
   "source": [
    "fn_src ='https://drive.google.com/uc?export=download&id=1RzQpKONOcXSMxH2ZzOI4iVMiTgD6ttSl'\n",
    "fn_dst ='eeg_dat.p'\n",
    "\n",
    "import os\n",
    "from six.moves import urllib\n",
    "\n",
    "if os.path.isfile(fn_dst):\n",
    "    print('File %s is already downloaded' % fn_dst)\n",
    "else:        \n",
    "    print('Fetching file %s [53MB].  This may take a minute..' % fn_dst)\n",
    "    urllib.request.urlretrieve(fn_src, fn_dst)\n",
    "    print('File %s downloaded' % fn_dst)"
   ]
  },
  {
   "cell_type": "markdown",
   "metadata": {},
   "source": [
    "Now run the following command which will get the data from the `pickle` file."
   ]
  },
  {
   "cell_type": "code",
   "execution_count": 80,
   "metadata": {},
   "outputs": [],
   "source": [
    "import pickle\n",
    "fn = 'eeg_dat.p'\n",
    "with open(fn, 'rb') as fp:\n",
    "    [X,Y] = pickle.load(fp)"
   ]
  },
  {
   "cell_type": "markdown",
   "metadata": {},
   "source": [
    "To understand the data, there are three key variables:\n",
    "* `nt`    = number of time steps that we measure data\n",
    "* `nchan` = number of channels (i.e. electrodes) measured in each time step\n",
    "* `ncur`  = number of currents in the brain that we want to estimate.  \n",
    "\n",
    "Each current comes from one brain region (called a *voxel*) in either the `x`, `y` or `z` direction.  So,\n",
    "\n",
    "    nvoxels = ncur / 3\n",
    "    \n",
    "The components of the `X` and `Y` matrices are:\n",
    "*  `Y[i,k]` = electric field measurement on channel `i` at time `k`\n",
    "*  `X[i,j]` = sensitivity of channel `i` to current `j`.\n",
    "\n",
    "Using `X.shape` and `Y.shape` compute and print `nt`, `nchan`, `ncur` and `nvoxels`."
   ]
  },
  {
   "cell_type": "code",
   "execution_count": 81,
   "metadata": {},
   "outputs": [
    {
     "name": "stdout",
     "output_type": "stream",
     "text": [
      "number of time steps that we measure data = 85\n",
      "number of channels (i.e. electrodes) measured in each time step = 305\n",
      "number of currents in the brain that we want to estimate = 22494\n",
      "brain region (called a voxel) = 7498.0\n"
     ]
    }
   ],
   "source": [
    "# TODO 1\n",
    "nt = Y.shape[1]\n",
    "ncur = X.shape[1]\n",
    "nchan = X.shape[0]\n",
    "nvoxels = ncur/3\n",
    "\n",
    "print(\"number of time steps that we measure data = {:}\".format(nt))\n",
    "print(\"number of channels (i.e. electrodes) measured in each time step = {:}\".format(nchan))\n",
    "print(\"number of currents in the brain that we want to estimate = {:}\".format(ncur))\n",
    "print(\"brain region (called a voxel) = {:}\".format(nvoxels))"
   ]
  },
  {
   "cell_type": "markdown",
   "metadata": {},
   "source": [
    "## Ridge Regression\n",
    "\n",
    "Our goal is to estimate the currents in the brain from the measurements `Y`.  One simple linear model is:\n",
    "\n",
    "    Y[i,k]  = \\sum_j X[i,j]*W[j,k]+ b[k]\n",
    "\n",
    "where `W[j,k]` is the value of current `j` at time `k` and `b[k]` is a bias.  We can solve for the current matrix `W` via linear regression.  \n",
    "\n",
    "Howeever, there is a problem:\n",
    "*  There are `nt x ncur` unknowns in `W`\n",
    "*  There are only `nt x nchan` measurements in `Y`.\n",
    "\n",
    "In this problem, we have:\n",
    "\n",
    "    number of measurements  << number of unknowns\n",
    "    \n",
    "We need to use regularization in these circumstances.  We first try Ridge regression.\n",
    "\n",
    "First split the data into training and test.  Use the `train_test_split` function with `test_size=0.33`."
   ]
  },
  {
   "cell_type": "code",
   "execution_count": 82,
   "metadata": {},
   "outputs": [],
   "source": [
    "# TODO 2 \n",
    "# Xtr,Xts,Ytr,Yts = train_test_split(...) \n",
    "Xtr, Xts, ytr, yts = train_test_split(X,Y,test_size=0.33,shuffle=True, random_state=3)"
   ]
  },
  {
   "cell_type": "markdown",
   "metadata": {},
   "source": [
    "Use the `Ridge` regression object in `sklearn` to fit the model on the training data.  Use a regularization, `alpha=1`."
   ]
  },
  {
   "cell_type": "code",
   "execution_count": 83,
   "metadata": {},
   "outputs": [
    {
     "data": {
      "text/plain": [
       "Ridge(alpha=1)"
      ]
     },
     "execution_count": 83,
     "metadata": {},
     "output_type": "execute_result"
    }
   ],
   "source": [
    "# TODO 3 \n",
    "alpha = 1\n",
    "regr = Ridge(alpha=alpha)\n",
    "regr.fit(Xtr, ytr)"
   ]
  },
  {
   "cell_type": "markdown",
   "metadata": {},
   "source": [
    "Preict the values `Y` on both the training and test data.  Use the `r2_score` method to measure the `R^2` value on both the training and test.  You will see that `R^2` value is large for the training data, it is very low for the test data.  This suggest that even with regularization, the model is over-fitting the data."
   ]
  },
  {
   "cell_type": "code",
   "execution_count": 84,
   "metadata": {},
   "outputs": [
    {
     "name": "stdout",
     "output_type": "stream",
     "text": [
      "the training R^2 is = 0.599949\n",
      "the testing R^2 is  = 0.099818\n"
     ]
    }
   ],
   "source": [
    "# TODO 4 \n",
    "yhat_tst = regr.predict(Xts)\n",
    "yhat_tr = regr.predict(Xtr)\n",
    "\n",
    "rsq_tr = r2_score(ytr, yhat_tr)\n",
    "rsq_ts = r2_score(yts, yhat_tst)\n",
    "\n",
    "print(\"the training R^2 is = {:2f}\".format(rsq_tr))\n",
    "\n",
    "print(\"the testing R^2 is  = {:2f}\".format(rsq_ts))"
   ]
  },
  {
   "cell_type": "markdown",
   "metadata": {},
   "source": [
    "Next, try to see if we can get a better `R^2` score using different values of `alpha`.  Use cross-validation to measure the test `R^2` for 20 `alpha` values logarithmically spaced from `10^{-2}` to `10^{2}` (use `np.logspace()`).  You can use regular cross-validation.  You do not need to do `K`-fold."
   ]
  },
  {
   "cell_type": "code",
   "execution_count": 85,
   "metadata": {},
   "outputs": [
    {
     "name": "stdout",
     "output_type": "stream",
     "text": [
      "alpha = 0.010000      Rsq = -0.185629\n",
      "alpha = 0.016238      Rsq = -0.101130\n",
      "alpha = 0.026367      Rsq = -0.032979\n",
      "alpha = 0.042813      Rsq = 0.021087\n",
      "alpha = 0.069519      Rsq = 0.062936\n",
      "alpha = 0.112884      Rsq = 0.093390\n",
      "alpha = 0.183298      Rsq = 0.112399\n",
      "alpha = 0.297635      Rsq = 0.120032\n",
      "alpha = 0.483293      Rsq = 0.117452\n",
      "alpha = 0.784760      Rsq = 0.107040\n",
      "alpha = 1.274275      Rsq = 0.091750\n",
      "alpha = 2.069138      Rsq = 0.074438\n",
      "alpha = 3.359818      Rsq = 0.057448\n",
      "alpha = 5.455595      Rsq = 0.042309\n",
      "alpha = 8.858668      Rsq = 0.029670\n",
      "alpha = 14.384499      Rsq = 0.019579\n",
      "alpha = 23.357215      Rsq = 0.011823\n",
      "alpha = 37.926902      Rsq = 0.006097\n",
      "alpha = 61.584821      Rsq = 0.002044\n",
      "alpha = 100.000000      Rsq = -0.000716\n"
     ]
    }
   ],
   "source": [
    "# TODO 5 \n",
    "# Alpha values to test\n",
    "alphas_ridge = np.logspace(-2,2,20)\n",
    "nalpha = len(alphas_ridge)\n",
    "\n",
    "rsq = np.zeros(nalpha)\n",
    "for i, alpha in enumerate(alphas_ridge):\n",
    "\n",
    "    # Fit on the training data\n",
    "    reg = Ridge(alpha=alpha)\n",
    "    reg.fit(Xtr, ytr)\n",
    "\n",
    "    # Score on the test data\n",
    "    yhat = reg.predict(Xts)\n",
    "    rsq[i] = r2_score(yts, yhat)\n",
    "    print(\"alpha = {:2f}      Rsq = {:2f}\".format(alpha, rsq[i]))\n",
    "   "
   ]
  },
  {
   "cell_type": "markdown",
   "metadata": {},
   "source": [
    "Plot the test `R^2` vs. `alpha`.  And print the maximum test `R^2`.  You should see that the maximum test `R^2` is still not very high."
   ]
  },
  {
   "cell_type": "code",
   "execution_count": 86,
   "metadata": {},
   "outputs": [
    {
     "data": {
      "image/png": "[encoded data removed]",
      "text/plain": [
       "<Figure size 432x288 with 1 Axes>"
      ]
     },
     "metadata": {
      "needs_background": "light"
     },
     "output_type": "display_data"
    },
    {
     "name": "stdout",
     "output_type": "stream",
     "text": [
      "index is  7\n",
      "maximum Rsq for ridge regression with optimal alpha is  0.12003178046945738\n",
      "optimal alpha is  0.29763514416313175\n"
     ]
    }
   ],
   "source": [
    "# TODO 6 \n",
    "plt.semilogx(alphas_ridge, rsq, 'o-')\n",
    "#because its not continuous\n",
    "\n",
    "plt.xlabel('log10(alpha)')\n",
    "plt.ylabel('Test R^2')\n",
    "plt.grid()\n",
    "plt.show()\n",
    "\n",
    "index = np.argsort(rsq)[-1]\n",
    "rsq_min = rsq[index]\n",
    "print(\"index is \", index)\n",
    "print(\"maximum Rsq for ridge regression with optimal alpha is \",rsq_min )\n",
    "print(\"optimal alpha is \",alphas_ridge[index] )\n",
    " \n"
   ]
  },
  {
   "cell_type": "markdown",
   "metadata": {},
   "source": [
    "Now, let's take a look at the solution. \n",
    "\n",
    "* Find the optimal regularization `alpha` from the cross-validation\n",
    "* Re-fit the model at the optimal `alpha`\n",
    "* Get the current matrix `W` from the coefficients in the linear model.  These are stored in `regr.coef_`.  You may need a transpose\n",
    "* For each current `j` compute `Wrms[j] =  sqrt( sum_k W[j,k]**2 )` which is root mean squared current.\n",
    "\n",
    "You will see that the vector `Wrms` is not sparse.  This means that the solution that is found with Ridge regression finds currents in all locations."
   ]
  },
  {
   "cell_type": "code",
   "execution_count": 48,
   "metadata": {},
   "outputs": [
    {
     "name": "stdout",
     "output_type": "stream",
     "text": [
      "[[0.26086777]\n",
      " [0.11113737]\n",
      " [0.13657601]\n",
      " ...\n",
      " [0.0423126 ]\n",
      " [0.0499962 ]\n",
      " [0.07566757]]\n"
     ]
    },
    {
     "data": {
      "text/plain": [
       "[<matplotlib.lines.Line2D at 0x7fb562ac1310>]"
      ]
     },
     "execution_count": 48,
     "metadata": {},
     "output_type": "execute_result"
    },
    {
     "data": {
      "image/png": "[encoded data removed]",
      "text/plain": [
       "<Figure size 432x288 with 1 Axes>"
      ]
     },
     "metadata": {
      "needs_background": "light"
     },
     "output_type": "display_data"
    }
   ],
   "source": [
    "# TODO 7 \n",
    "reg = Ridge(alpha=alphas_ridge[index])\n",
    "reg.fit(Xtr, ytr)\n",
    "\n",
    "coeff_ridge_norm = reg.coef_\n",
    "coeff_ridge_norm = np.transpose(coeff_ridge_norm)\n",
    "coeff_ridge_norm = np.sqrt(np.sum(coeff_ridge_norm**2, axis=1, keepdims=True))\n",
    "print(coeff_ridge_norm)\n",
    "plt.plot(coeff_ridge_norm)\n"
   ]
  },
  {
   "cell_type": "markdown",
   "metadata": {},
   "source": [
    "## LASSO Regression\n",
    "\n",
    "We can improve the estimate by imposing sparsity.  Biologically, we know that only a limited number of brain regions should be involved in the reponse to a particular stimuli.  As a result, we would expect that the current matrix `W[j,k]` to be zero for most values `j,k`.  We can impose this constraint using LASSO regularization.\n",
    "\n",
    "Re-fit the training data using the `Lasso` model with `alpha=1e-3`.  Also set `max_iter=100` and `tol=0.01`.  The LASSO solver is much slower, so this make take a minute."
   ]
  },
  {
   "cell_type": "code",
   "execution_count": 49,
   "metadata": {},
   "outputs": [
    {
     "name": "stdout",
     "output_type": "stream",
     "text": [
      "Training R^2= 0.187792\n"
     ]
    }
   ],
   "source": [
    "# TODO 8 \n",
    "\n",
    "alpha = 1e-3\n",
    "# Create Lasso object and fit on training data\n",
    "reg_lasso = Lasso(alpha=alpha, max_iter =100, tol=0.01)\n",
    "reg_lasso.fit(Xtr, ytr)\n",
    "\n",
    "# Predict and score on test\n",
    "yhat_tr = reg_lasso.predict(Xtr)\n",
    "rsq_tr = r2_score(ytr, yhat_tr)\n",
    "\n",
    "print('Training R^2= %f' % rsq_tr)"
   ]
  },
  {
   "cell_type": "markdown",
   "metadata": {},
   "source": [
    "Now, test the model on the test data and measure the `R^2` value.  You should get a much better fit than with the Ridge regression solution.  "
   ]
  },
  {
   "cell_type": "code",
   "execution_count": 50,
   "metadata": {},
   "outputs": [
    {
     "name": "stdout",
     "output_type": "stream",
     "text": [
      "Testing R^2= 0.135962\n"
     ]
    }
   ],
   "source": [
    "# TODO 9 \n",
    "# Predict and score on test\n",
    "yhat_ts = reg_lasso.predict(Xts)\n",
    "rsq_ts = r2_score(yts, yhat_ts)\n",
    "\n",
    "print('Testing R^2= %f' % rsq_ts)"
   ]
  },
  {
   "cell_type": "markdown",
   "metadata": {},
   "source": [
    "We can now search for the optimal `alpha`.  Use cross-validation to find the `alpha` logarithically space between `alpha=10^{-3}` and `alpha=10^{-4}`.  Each fit takes some time, so use only 5 values of `alpha`. Also for each `alpha` store the current matrix.  This way, you will not have to re-fit the model."
   ]
  },
  {
   "cell_type": "code",
   "execution_count": 64,
   "metadata": {},
   "outputs": [
    {
     "name": "stdout",
     "output_type": "stream",
     "text": [
      "alpha is 0.001000 and Rsq is 0.135962\n",
      "alpha is 0.000562 and Rsq is 0.218617\n",
      "alpha is 0.000316 and Rsq is 0.256195\n",
      "alpha is 0.000178 and Rsq is 0.247137\n",
      "alpha is 0.000100 and Rsq is 0.214529\n"
     ]
    }
   ],
   "source": [
    "# TODO 10\n",
    "\n",
    "# Alpha values to test\n",
    "alphas = np.logspace(-3,-4,5)\n",
    "nalpha = len(alphas)\n",
    "current_matrix = np.zeros((nalpha,ncur,nt))\n",
    "rsq = np.zeros(nalpha)\n",
    "for i, alpha in enumerate(alphas):\n",
    "    # Fit on the training data\n",
    "    reg = Lasso(alpha=alpha, max_iter =100, tol=0.01)\n",
    "    reg.fit(Xtr, ytr)\n",
    "    current_matrix[i] = np.transpose(reg.coef_)\n",
    "    # Score on the test data\n",
    "    yhat = reg.predict(Xts)\n",
    "    rsq[i] = r2_score(yts, yhat)\n",
    "    print(\"alpha is {:2f} and Rsq is {:2f}\".format(alpha, rsq[i]))\n",
    "   \n",
    "\n"
   ]
  },
  {
   "cell_type": "markdown",
   "metadata": {},
   "source": [
    "Plot the `r^2` value vs. `alpha`.  Print the optimal `r^2`.  You should see it is much higher than with the best Ridge Regression case."
   ]
  },
  {
   "cell_type": "code",
   "execution_count": 67,
   "metadata": {},
   "outputs": [
    {
     "data": {
      "image/png": "[encoded data removed]",
      "text/plain": [
       "<Figure size 432x288 with 1 Axes>"
      ]
     },
     "metadata": {
      "needs_background": "light"
     },
     "output_type": "display_data"
    },
    {
     "name": "stdout",
     "output_type": "stream",
     "text": [
      "Maximum Rsq for ridge regression with optimal alpha is  0.2561946050699821\n",
      "optimal alpha is  0.00031622776601683794\n"
     ]
    }
   ],
   "source": [
    "# TODO 11 \n",
    "plt.semilogx(alphas, rsq, 'o-')\n",
    "plt.xlabel('log10(alpha)')\n",
    "plt.ylabel('Test R^2')\n",
    "plt.grid()\n",
    "plt.show()\n",
    "\n",
    "im = np.argmax(rsq)\n",
    "alpha_corresponding = alphas[im]\n",
    "\n",
    "print(\"Maximum Rsq for ridge regression with optimal alpha is \",rsq[im])\n",
    "print(\"optimal alpha is \",alpha_corresponding)\n",
    " \n",
    "\n"
   ]
  },
  {
   "cell_type": "markdown",
   "metadata": {},
   "source": [
    "Display the current matrix `W` for the optimal `alpha` as you did in the Ridge Regression case.  You will see that is much sparser."
   ]
  },
  {
   "cell_type": "code",
   "execution_count": 69,
   "metadata": {},
   "outputs": [
    {
     "name": "stdout",
     "output_type": "stream",
     "text": [
      "[[0.]\n",
      " [0.]\n",
      " [0.]\n",
      " ...\n",
      " [0.]\n",
      " [0.]\n",
      " [0.]]\n"
     ]
    },
    {
     "data": {
      "text/plain": [
       "[<matplotlib.lines.Line2D at 0x7fb562b2f280>]"
      ]
     },
     "execution_count": 69,
     "metadata": {},
     "output_type": "execute_result"
    },
    {
     "data": {
      "image/png": "[encoded data removed]",
      "text/plain": [
       "<Figure size 432x288 with 1 Axes>"
      ]
     },
     "metadata": {
      "needs_background": "light"
     },
     "output_type": "display_data"
    }
   ],
   "source": [
    "# TODO 12 \n",
    "current_matrix_lasso = current_matrix[im]\n",
    "coeff_lasso_norm = np.sqrt(np.sum(current_matrix_lasso**2, axis=1, keepdims=True))\n",
    "print(coeff_lasso_norm)\n",
    "plt.plot(coeff_lasso_norm)"
   ]
  },
  {
   "cell_type": "markdown",
   "metadata": {},
   "source": [
    "## More fun (NOT GRADED)\n",
    "\n",
    "If you want to more on this lab:\n",
    "* Install the [MNE python package](https://martinos.org/mne/stable/index.html).  This is an amazing package with many tools for processing EEG data.\n",
    "* In particular, you can use the above results to visualize where in the brain the currents sources are.\n",
    "* You can also improve the fitting with more regularization.  For example, we know that the currents will be non-zero in groups:  If the current is non-zero for one time, it is likely to non-zero for all time.  You can use the Group LASSO method.\n",
    "* You can combine these results to make predictions about what the patient is seeing or hearing or thinking."
   ]
  }
 ],
 "metadata": {
  "kernelspec": {
   "display_name": "Python 3",
   "language": "python",
   "name": "python3"
  },
  "language_info": {
   "codemirror_mode": {
    "name": "ipython",
    "version": 3
   },
   "file_extension": ".py",
   "mimetype": "text/x-python",
   "name": "python",
   "nbconvert_exporter": "python",
   "pygments_lexer": "ipython3",
   "version": "3.8.5"
  }
 },
 "nbformat": 4,
 "nbformat_minor": 2
}
