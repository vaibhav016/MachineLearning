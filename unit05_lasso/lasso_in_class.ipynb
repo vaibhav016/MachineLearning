{
 "cells": [
  {
   "cell_type": "markdown",
   "metadata": {},
   "source": [
    "# LASSO Regression In-Class Exercise\n",
    "\n",
    "In this exercise, we will see how to use LASSO for pitch detection and noise removal in audio.\n",
    "\n",
    "We load the following packages."
   ]
  },
  {
   "cell_type": "code",
   "execution_count": 2,
   "metadata": {},
   "outputs": [],
   "source": [
    "import numpy as np\n",
    "import matplotlib.pyplot as plt\n",
    "import pickle"
   ]
  },
  {
   "cell_type": "markdown",
   "metadata": {},
   "source": [
    "## Load the Data\n",
    "\n",
    "The data is taken from a sample of about 20 ms of audio from a viola.  I have already pre-processed the data.  You can load it with the following command.  The value `t` is the time (in seconds) and `y` is the sample of audio (this is a mono recording).  Noise has been artificially added to the sample."
   ]
  },
  {
   "cell_type": "code",
   "execution_count": 10,
   "metadata": {},
   "outputs": [
    {
     "name": "stdout",
     "output_type": "stream",
     "text": [
      "File viola_sample.p is already downloaded\n"
     ]
    }
   ],
   "source": [
    "fn_src = 'https://raw.githubusercontent.com/sdrangan/introml/master/unit05_lasso/viola_sample.p'\n",
    "fn_dst = 'viola_sample.p'\n",
    "\n",
    "import os\n",
    "from six.moves import urllib\n",
    "\n",
    "if os.path.isfile(fn_dst):\n",
    "    print('File %s is already downloaded' % fn_dst)\n",
    "else:        \n",
    "    urllib.request.urlretrieve(fn_src, fn_dst)\n",
    "    print('File %s downloaded' % fn_dst)\n",
    "\n",
    "with open(fn_dst,'rb') as fp:\n",
    "    t,y = pickle.load(fp)"
   ]
  },
  {
   "cell_type": "markdown",
   "metadata": {},
   "source": [
    "Plot the data `y` vs. `t`.  "
   ]
  },
  {
   "cell_type": "code",
   "execution_count": 5,
   "metadata": {
    "scrolled": false
   },
   "outputs": [],
   "source": [
    "# TODO"
   ]
  },
  {
   "cell_type": "markdown",
   "metadata": {},
   "source": [
    "## Creating Features for a Sinusoidal Model\n",
    "\n",
    "We will try to fit a model of the form:\n",
    "\n",
    "    y[i] = \\sum_j a[j]*sin(2*pi*freq[j]*t[i]) + b[j]*cos(2*pi*freq[j]*t[i])\n",
    "\n",
    "That is, `y[i]` is a sum of sinusoids.  This is a common model for audio signals since an instrument, such as a viola, produces discrete tones.  \n",
    "\n",
    "This model is non-linear in the frequency parameters.  So, instead of trying to find the frequencies, we will fix a large number of frequencies and then require that the coefficients `a[j]` and `b[j]` are mostly sparse.  \n",
    "\n",
    "We will use the following vector of frequencies.  This vector includes frequencies on the muscial scale as well as frequencies between the musical notes."
   ]
  },
  {
   "cell_type": "code",
   "execution_count": 6,
   "metadata": {},
   "outputs": [],
   "source": [
    "freq = 55*2**(np.arange(5*96)/96)"
   ]
  },
  {
   "cell_type": "markdown",
   "metadata": {},
   "source": [
    "To fit the sinusoidal model, we will write a function to map the values `t` to \n",
    "the `sin` and `cos` features.  Finish the function `transform` that creates matrices:\n",
    "\n",
    "    Xcos[i,j] = np.cos(2*np.pi*t[i]*freq[j])\n",
    "    Xsin[i,j] = np.sin(2*np.pi*t[i]*freq[j])\n",
    "    X = np.hstack((Xcos,Xsin))\n",
    "    \n",
    "So, if `freq` is length `d`, there will `2*d` features.  You can try to create the matrices using python broadcasting if you want to avoid a for loop.    "
   ]
  },
  {
   "cell_type": "code",
   "execution_count": 104,
   "metadata": {},
   "outputs": [],
   "source": [
    "def transform(t,freq):\n",
    "    # TODO\n",
    "    # Xcos = ...\n",
    "    # Xsin = ...\n",
    "    \n",
    "    X = np.hstack((Xcos,Xsin))    \n",
    "    return X"
   ]
  },
  {
   "cell_type": "markdown",
   "metadata": {},
   "source": [
    "Split the data `t` and `y` into training and test.  Use approximately 50% for each set."
   ]
  },
  {
   "cell_type": "code",
   "execution_count": 105,
   "metadata": {},
   "outputs": [],
   "source": [
    "from sklearn.model_selection import train_test_split\n",
    "\n",
    "# TODO\n",
    "# ttr, tts, ytr, yts = train_test_split(...)"
   ]
  },
  {
   "cell_type": "markdown",
   "metadata": {},
   "source": [
    "Transform the `ttr`, `tts` into `Xtr` and `Xts`."
   ]
  },
  {
   "cell_type": "code",
   "execution_count": 8,
   "metadata": {},
   "outputs": [],
   "source": [
    "# TODO"
   ]
  },
  {
   "cell_type": "markdown",
   "metadata": {},
   "source": [
    "## Use LASSO to Find the Frequencies\n",
    "\n",
    "We can now use LASSO regression to find the model\n",
    "* Use LASSO regression with `alpha=500` to fit the model.  \n",
    "* Find the R^2-score on the test data.\n",
    "* Plot the predicted value of `y` for `t in [0,0.02]`."
   ]
  },
  {
   "cell_type": "code",
   "execution_count": 107,
   "metadata": {},
   "outputs": [],
   "source": [
    "from sklearn.linear_model import Lasso\n",
    "\n",
    "# TODO\n",
    "# regr = Lasso(...)"
   ]
  },
  {
   "cell_type": "markdown",
   "metadata": {},
   "source": [
    "Recall that you can find the coefficient in the model via `w = regr.coef_`.  If `freq` has `d` terms, then `w` will have `2*d` terms.\n",
    "* Split the coefficients `w` into `a` and `b`, the terms for the `cos` and `sin` features.\n",
    "* Plot `a` and `b` using `plt.stem`.\n",
    "* Which frequencies is dominant in this track?\n"
   ]
  },
  {
   "cell_type": "code",
   "execution_count": 9,
   "metadata": {},
   "outputs": [],
   "source": [
    "# TODO"
   ]
  },
  {
   "cell_type": "markdown",
   "metadata": {},
   "source": [
    "Still have time...\n",
    "* Find the optimal `alpha` using cross-validation"
   ]
  },
  {
   "cell_type": "code",
   "execution_count": 25,
   "metadata": {},
   "outputs": [
    {
     "name": "stdout",
     "output_type": "stream",
     "text": [
      "[[0.13765578 0.47510883 0.95738653 ... 0.02395681 0.70744079 0.85743281]\n",
      " [0.36421119 0.36564856 0.41310096 ... 0.9490035  0.8333967  0.2318226 ]\n",
      " [0.83264481 0.09996197 0.48908869 ... 0.53602375 0.47003249 0.80156745]\n",
      " ...\n",
      " [0.04807133 0.38238786 0.42597839 ... 0.53061292 0.66869412 0.06087322]\n",
      " [0.34555268 0.14044854 0.84313909 ... 0.49006401 0.97600521 0.67301616]\n",
      " [0.16665389 0.30336382 0.07396954 ... 0.10518943 0.59950146 0.3604516 ]]\n",
      "(100, 20)\n"
     ]
    }
   ],
   "source": [
    "import numpy as np\n",
    "X = np.random.rand(100,20)\n",
    "print(X)\n",
    "features = X.shape\n",
    "print(features)\n",
    "\n"
   ]
  },
  {
   "cell_type": "code",
   "execution_count": 26,
   "metadata": {},
   "outputs": [
    {
     "data": {
      "text/plain": [
       "(100, 2)"
      ]
     },
     "execution_count": 26,
     "metadata": {},
     "output_type": "execute_result"
    }
   ],
   "source": [
    "n = np.zeros((100,2))\n",
    "n.shape"
   ]
  },
  {
   "cell_type": "code",
   "execution_count": 37,
   "metadata": {
    "scrolled": true
   },
   "outputs": [
    {
     "name": "stdout",
     "output_type": "stream",
     "text": [
      "[[0.13765578]\n",
      " [0.36421119]\n",
      " [0.83264481]\n",
      " [0.03047989]\n",
      " [0.30269582]\n",
      " [0.34470141]\n",
      " [0.42982824]\n",
      " [0.14868668]\n",
      " [0.71506055]\n",
      " [0.51532239]\n",
      " [0.09634308]\n",
      " [0.14455217]\n",
      " [0.64537754]\n",
      " [0.20716688]\n",
      " [0.23082338]\n",
      " [0.17629911]\n",
      " [0.64227189]\n",
      " [0.63792674]\n",
      " [0.75168914]\n",
      " [0.66737009]\n",
      " [0.47581783]\n",
      " [0.7845188 ]\n",
      " [0.85287189]\n",
      " [0.66444092]\n",
      " [0.57930172]\n",
      " [0.08680832]\n",
      " [0.49466057]\n",
      " [0.7791988 ]\n",
      " [0.75968031]\n",
      " [0.67664938]\n",
      " [0.06082723]\n",
      " [0.31276755]\n",
      " [0.19545772]\n",
      " [0.4258644 ]\n",
      " [0.10998838]\n",
      " [0.50683128]\n",
      " [0.6610144 ]\n",
      " [0.80648973]\n",
      " [0.56091701]\n",
      " [0.7155594 ]\n",
      " [0.18752875]\n",
      " [0.75800355]\n",
      " [0.79849896]\n",
      " [0.80657627]\n",
      " [0.85974146]\n",
      " [0.42719382]\n",
      " [0.88685244]\n",
      " [0.55170407]\n",
      " [0.63205507]\n",
      " [0.66193539]\n",
      " [0.4520089 ]\n",
      " [0.03023347]\n",
      " [0.49121856]\n",
      " [0.97781655]\n",
      " [0.77642495]\n",
      " [0.33280743]\n",
      " [0.4238546 ]\n",
      " [0.4044056 ]\n",
      " [0.83416106]\n",
      " [0.72560431]\n",
      " [0.36808621]\n",
      " [0.76802885]\n",
      " [0.98571587]\n",
      " [0.17516988]\n",
      " [0.53582589]\n",
      " [0.94085348]\n",
      " [0.74712655]\n",
      " [0.99252141]\n",
      " [0.53939307]\n",
      " [0.39885913]\n",
      " [0.05017784]\n",
      " [0.00699308]\n",
      " [0.83416903]\n",
      " [0.37648136]\n",
      " [0.07886621]\n",
      " [0.09891712]\n",
      " [0.13978944]\n",
      " [0.98361772]\n",
      " [0.63947326]\n",
      " [0.31206376]\n",
      " [0.1029003 ]\n",
      " [0.91253278]\n",
      " [0.95513477]\n",
      " [0.44755546]\n",
      " [0.92485211]\n",
      " [0.44429162]\n",
      " [0.61113852]\n",
      " [0.03701336]\n",
      " [0.64764991]\n",
      " [0.59128671]\n",
      " [0.40879732]\n",
      " [0.74593256]\n",
      " [0.22633391]\n",
      " [0.68813213]\n",
      " [0.6296507 ]\n",
      " [0.78026796]\n",
      " [0.387049  ]\n",
      " [0.04807133]\n",
      " [0.34555268]\n",
      " [0.16665389]]\n"
     ]
    }
   ],
   "source": [
    "print(X[:,0:1])"
   ]
  },
  {
   "cell_type": "code",
   "execution_count": 27,
   "metadata": {
    "scrolled": true
   },
   "outputs": [
    {
     "data": {
      "text/plain": [
       "(100, 1)"
      ]
     },
     "execution_count": 27,
     "metadata": {},
     "output_type": "execute_result"
    }
   ],
   "source": [
    "X[:,0:1].shape"
   ]
  },
  {
   "cell_type": "code",
   "execution_count": 31,
   "metadata": {},
   "outputs": [],
   "source": [
    "n[:,0:1] = X[:,0:1]\n",
    "n[:,1:2] = X[:,1:2]\n",
    "\n"
   ]
  },
  {
   "cell_type": "code",
   "execution_count": 35,
   "metadata": {},
   "outputs": [
    {
     "name": "stdout",
     "output_type": "stream",
     "text": [
      "0 1\n",
      "0 2\n",
      "0 3\n",
      "0 4\n",
      "0 5\n",
      "0 6\n",
      "0 7\n",
      "0 8\n",
      "0 9\n",
      "0 10\n",
      "0 11\n",
      "0 12\n",
      "0 13\n",
      "0 14\n",
      "0 15\n",
      "0 16\n",
      "0 17\n",
      "0 18\n",
      "0 19\n",
      "1 2\n",
      "1 3\n",
      "1 4\n",
      "1 5\n",
      "1 6\n",
      "1 7\n",
      "1 8\n",
      "1 9\n",
      "1 10\n",
      "1 11\n",
      "1 12\n",
      "1 13\n",
      "1 14\n",
      "1 15\n",
      "1 16\n",
      "1 17\n",
      "1 18\n",
      "1 19\n",
      "2 3\n",
      "2 4\n",
      "2 5\n",
      "2 6\n",
      "2 7\n",
      "2 8\n",
      "2 9\n",
      "2 10\n",
      "2 11\n",
      "2 12\n",
      "2 13\n",
      "2 14\n",
      "2 15\n",
      "2 16\n",
      "2 17\n",
      "2 18\n",
      "2 19\n",
      "3 4\n",
      "3 5\n",
      "3 6\n",
      "3 7\n",
      "3 8\n",
      "3 9\n",
      "3 10\n",
      "3 11\n",
      "3 12\n",
      "3 13\n",
      "3 14\n",
      "3 15\n",
      "3 16\n",
      "3 17\n",
      "3 18\n",
      "3 19\n",
      "4 5\n",
      "4 6\n",
      "4 7\n",
      "4 8\n",
      "4 9\n",
      "4 10\n",
      "4 11\n",
      "4 12\n",
      "4 13\n",
      "4 14\n",
      "4 15\n",
      "4 16\n",
      "4 17\n",
      "4 18\n",
      "4 19\n",
      "5 6\n",
      "5 7\n",
      "5 8\n",
      "5 9\n",
      "5 10\n",
      "5 11\n",
      "5 12\n",
      "5 13\n",
      "5 14\n",
      "5 15\n",
      "5 16\n",
      "5 17\n",
      "5 18\n",
      "5 19\n",
      "6 7\n",
      "6 8\n",
      "6 9\n",
      "6 10\n",
      "6 11\n",
      "6 12\n",
      "6 13\n",
      "6 14\n",
      "6 15\n",
      "6 16\n",
      "6 17\n",
      "6 18\n",
      "6 19\n",
      "7 8\n",
      "7 9\n",
      "7 10\n",
      "7 11\n",
      "7 12\n",
      "7 13\n",
      "7 14\n",
      "7 15\n",
      "7 16\n",
      "7 17\n",
      "7 18\n",
      "7 19\n",
      "8 9\n",
      "8 10\n",
      "8 11\n",
      "8 12\n",
      "8 13\n",
      "8 14\n",
      "8 15\n",
      "8 16\n",
      "8 17\n",
      "8 18\n",
      "8 19\n",
      "9 10\n",
      "9 11\n",
      "9 12\n",
      "9 13\n",
      "9 14\n",
      "9 15\n",
      "9 16\n",
      "9 17\n",
      "9 18\n",
      "9 19\n",
      "10 11\n",
      "10 12\n",
      "10 13\n",
      "10 14\n",
      "10 15\n",
      "10 16\n",
      "10 17\n",
      "10 18\n",
      "10 19\n",
      "11 12\n",
      "11 13\n",
      "11 14\n",
      "11 15\n",
      "11 16\n",
      "11 17\n",
      "11 18\n",
      "11 19\n",
      "12 13\n",
      "12 14\n",
      "12 15\n",
      "12 16\n",
      "12 17\n",
      "12 18\n",
      "12 19\n",
      "13 14\n",
      "13 15\n",
      "13 16\n",
      "13 17\n",
      "13 18\n",
      "13 19\n",
      "14 15\n",
      "14 16\n",
      "14 17\n",
      "14 18\n",
      "14 19\n",
      "15 16\n",
      "15 17\n",
      "15 18\n",
      "15 19\n",
      "16 17\n",
      "16 18\n",
      "16 19\n",
      "17 18\n",
      "17 19\n",
      "18 19\n"
     ]
    }
   ],
   "source": [
    "Xtrsliced = np.zeros((100,2))\n",
    "Xtrsliced = np.zeros((100,2))\n",
    "for i in range(0,20):\n",
    "    Xtrsliced[:,0:1] = X[:,i:i+1]\n",
    "    for j in range(i+1, 20):\n",
    "        Xtrsliced[:,1:2] = X[:,j:j+1]\n",
    "        print(i, j)"
   ]
  },
  {
   "cell_type": "code",
   "execution_count": 34,
   "metadata": {},
   "outputs": [
    {
     "name": "stdout",
     "output_type": "stream",
     "text": [
      "[[0.85743281 0.85743281]\n",
      " [0.2318226  0.2318226 ]\n",
      " [0.80156745 0.80156745]\n",
      " [0.10704441 0.10704441]\n",
      " [0.57227439 0.57227439]\n",
      " [0.24963989 0.24963989]\n",
      " [0.196957   0.196957  ]\n",
      " [0.38863793 0.38863793]\n",
      " [0.44702072 0.44702072]\n",
      " [0.03393883 0.03393883]\n",
      " [0.16908534 0.16908534]\n",
      " [0.88440704 0.88440704]\n",
      " [0.49348939 0.49348939]\n",
      " [0.03698334 0.03698334]\n",
      " [0.78551303 0.78551303]\n",
      " [0.582988   0.582988  ]\n",
      " [0.36437778 0.36437778]\n",
      " [0.14522425 0.14522425]\n",
      " [0.85489466 0.85489466]\n",
      " [0.98062976 0.98062976]\n",
      " [0.81361352 0.81361352]\n",
      " [0.99151572 0.99151572]\n",
      " [0.81430784 0.81430784]\n",
      " [0.03538315 0.03538315]\n",
      " [0.59411925 0.59411925]\n",
      " [0.01839164 0.01839164]\n",
      " [0.24856267 0.24856267]\n",
      " [0.96738167 0.96738167]\n",
      " [0.13424602 0.13424602]\n",
      " [0.58750739 0.58750739]\n",
      " [0.59304746 0.59304746]\n",
      " [0.73782546 0.73782546]\n",
      " [0.53251871 0.53251871]\n",
      " [0.01325362 0.01325362]\n",
      " [0.16565782 0.16565782]\n",
      " [0.25314362 0.25314362]\n",
      " [0.79494967 0.79494967]\n",
      " [0.87350211 0.87350211]\n",
      " [0.44905982 0.44905982]\n",
      " [0.82976526 0.82976526]\n",
      " [0.06523557 0.06523557]\n",
      " [0.90070335 0.90070335]\n",
      " [0.96192624 0.96192624]\n",
      " [0.54513975 0.54513975]\n",
      " [0.43601064 0.43601064]\n",
      " [0.36562963 0.36562963]\n",
      " [0.4121853  0.4121853 ]\n",
      " [0.01906642 0.01906642]\n",
      " [0.09850326 0.09850326]\n",
      " [0.95935221 0.95935221]\n",
      " [0.62386665 0.62386665]\n",
      " [0.434994   0.434994  ]\n",
      " [0.97947329 0.97947329]\n",
      " [0.94166087 0.94166087]\n",
      " [0.61322403 0.61322403]\n",
      " [0.7672293  0.7672293 ]\n",
      " [0.23351158 0.23351158]\n",
      " [0.51719731 0.51719731]\n",
      " [0.98201098 0.98201098]\n",
      " [0.28585289 0.28585289]\n",
      " [0.65899618 0.65899618]\n",
      " [0.36748828 0.36748828]\n",
      " [0.71339225 0.71339225]\n",
      " [0.87292531 0.87292531]\n",
      " [0.34721393 0.34721393]\n",
      " [0.6197513  0.6197513 ]\n",
      " [0.58048041 0.58048041]\n",
      " [0.15458686 0.15458686]\n",
      " [0.92808042 0.92808042]\n",
      " [0.37908286 0.37908286]\n",
      " [0.56319281 0.56319281]\n",
      " [0.3347913  0.3347913 ]\n",
      " [0.63939949 0.63939949]\n",
      " [0.47021804 0.47021804]\n",
      " [0.91031963 0.91031963]\n",
      " [0.65380513 0.65380513]\n",
      " [0.68420379 0.68420379]\n",
      " [0.88543712 0.88543712]\n",
      " [0.20649619 0.20649619]\n",
      " [0.41137282 0.41137282]\n",
      " [0.84371287 0.84371287]\n",
      " [0.17798754 0.17798754]\n",
      " [0.60524354 0.60524354]\n",
      " [0.63096511 0.63096511]\n",
      " [0.27348106 0.27348106]\n",
      " [0.7973223  0.7973223 ]\n",
      " [0.91749316 0.91749316]\n",
      " [0.77940719 0.77940719]\n",
      " [0.25119696 0.25119696]\n",
      " [0.83576322 0.83576322]\n",
      " [0.5926017  0.5926017 ]\n",
      " [0.79422573 0.79422573]\n",
      " [0.97277465 0.97277465]\n",
      " [0.03856742 0.03856742]\n",
      " [0.0554958  0.0554958 ]\n",
      " [0.04384344 0.04384344]\n",
      " [0.25656355 0.25656355]\n",
      " [0.06087322 0.06087322]\n",
      " [0.67301616 0.67301616]\n",
      " [0.3604516  0.3604516 ]]\n"
     ]
    }
   ],
   "source": []
  },
  {
   "cell_type": "code",
   "execution_count": 51,
   "metadata": {},
   "outputs": [
    {
     "name": "stdout",
     "output_type": "stream",
     "text": [
      "(4, 2)\n",
      "(4, 2)\n",
      "[[0.98717682 0.50287527]\n",
      " [0.30834324 0.91575341]\n",
      " [0.95504538 0.70373145]\n",
      " [0.87209463 0.28072958]]\n",
      "[0.68975139 0.85143247 0.42548131 0.11543432]\n"
     ]
    },
    {
     "data": {
      "text/plain": [
       "LinearRegression()"
      ]
     },
     "execution_count": 51,
     "metadata": {},
     "output_type": "execute_result"
    }
   ],
   "source": [
    "k = np.zeros((4,2))\n",
    "k[:,0] = X[:,0]\n",
    "print(k.shape)\n",
    "k[:,1] = X[:,1]\n",
    "print(k.shape)\n",
    "print(k)\n",
    "print(y)\n",
    "model.fit(k, y)"
   ]
  },
  {
   "cell_type": "code",
   "execution_count": 54,
   "metadata": {},
   "outputs": [],
   "source": [
    "from sklearn.linear_model import LinearRegression\n",
    "from sklearn.metrics import r2_score\n",
    "from sklearn.model_selection import train_test_split\n",
    "\n",
    "score = -1\n",
    "best_model = None\n",
    "\n",
    "for i in range(0,features):\n",
    "    X_sliced = X[:,i,None]\n",
    "    Xtr, Xts, ytr, yts = train_test_split(X_sliced,y,test_size=0.33,shuffle=True)\n",
    "    model = LinearRegression()\n",
    "    model.fit(Xtr, ytr)\n",
    "    yhat = model.predict(Xts)\n",
    "    rsq = r2_score(yts, yhat)\n",
    "    if rsq > score:\n",
    "        score = rsq \n",
    "        best_model = model\n",
    "        \n",
    "        \n",
    "    \n",
    "    \n"
   ]
  },
  {
   "cell_type": "code",
   "execution_count": 55,
   "metadata": {},
   "outputs": [],
   "source": [
    "Xtr_sliced = np.zeros((Xtr.shape[0], 2))\n",
    "Xts_sliced = np.zeros((Xts.shape[0], 2))\n",
    "features = Xtr.shape[1]\n",
    "\n",
    "for i in range(0,features):\n",
    "    Xtr_sliced[:,0] = Xtr[:,i]\n",
    "    Xtr_sliced[:,0] = Xts[:,i]\n",
    "    for j in range(i+1, features):\n",
    "        Xtr_sliced[:,1] = Xtr[:,j]\n",
    "        Xts_sliced[:,1] = Xts[:,j]\n",
    "        model = LinearRegression()\n",
    "        model.fit(Xtr_sliced, ytr)\n",
    "        yhat = model.predict(Xts_sliced)\n",
    "        rsq = r2_score(yts, yhat)\n",
    "        if rsq > score:\n",
    "            score = rsq \n",
    "            best_model = model\n",
    "        \n",
    "        "
   ]
  },
  {
   "cell_type": "code",
   "execution_count": 64,
   "metadata": {},
   "outputs": [
    {
     "name": "stdout",
     "output_type": "stream",
     "text": [
      "[[2.        ]\n",
      " [4.        ]\n",
      " [1.66666667]]\n"
     ]
    }
   ],
   "source": [
    "X = [[1,2,3],[3,4,5],[1,1,3]]\n",
    "y = np.mean(X,axis = 1, keepdims=True)\n",
    "print(y)"
   ]
  },
  {
   "cell_type": "code",
   "execution_count": 65,
   "metadata": {},
   "outputs": [
    {
     "name": "stdout",
     "output_type": "stream",
     "text": [
      "[[-1.          0.          1.        ]\n",
      " [-1.          0.          1.        ]\n",
      " [-0.66666667 -0.66666667  1.33333333]]\n",
      "[[0.81649658]\n",
      " [0.81649658]\n",
      " [0.94280904]]\n",
      "[[-1.22474487  0.          1.22474487]\n",
      " [-1.22474487  0.          1.22474487]\n",
      " [-0.70710678 -0.70710678  1.41421356]]\n"
     ]
    }
   ],
   "source": [
    "print(X-y)\n",
    "\n",
    "print(n)\n",
    "print((X-y)/n)"
   ]
  },
  {
   "cell_type": "code",
   "execution_count": 66,
   "metadata": {},
   "outputs": [
    {
     "name": "stdout",
     "output_type": "stream",
     "text": [
      "[[-1.22474487  0.          1.22474487]\n",
      " [-1.22474487  0.          1.22474487]\n",
      " [-0.70710678 -0.70710678  1.41421356]]\n"
     ]
    }
   ],
   "source": [
    "n = (X-np.mean(X,axis = 1, keepdims=True))/np.std(X, axis =1, keepdims=True)\n",
    "print(n)"
   ]
  },
  {
   "cell_type": "code",
   "execution_count": 69,
   "metadata": {},
   "outputs": [],
   "source": [
    "def normalize(X, ax):\n",
    "    std_ = np.std(X, axis =ax, keepdims=True)\n",
    "    Z = (X-np.mean(X,axis = ax, keepdims=True))/std_\n",
    "    return Z \n",
    "\n",
    "def fit(Xtr, Xts, ytr, yts):\n",
    "    \n",
    "    Xtr_normalised = normalize(Xtr,1)\n",
    "    ytr_normalised = normalize(ytr,0)\n",
    "    \n",
    "    model = LinearRegression()\n",
    "    model.fit(Xtr_normalised, ytr_normalised)\n",
    "    \n",
    "    Xts_normalised = normalize(Xts,1)\n",
    "    yts_normalised = normalize(yts,0)\n",
    "    \n",
    "    yhat = model.predict(Xts_normalised)\n",
    "    Rss = np.sum((yhat-yts)**2)\n",
    "    print(\"The RSS is \", Rss)\n",
    "    \n",
    "\n",
    "    "
   ]
  },
  {
   "cell_type": "code",
   "execution_count": 83,
   "metadata": {},
   "outputs": [],
   "source": [
    "def normalize(X, ax):\n",
    "    std_ = np.std(X, axis =ax, keepdims=True)\n",
    "    Z = (X-np.mean(X,axis = ax, keepdims=True))/std_\n",
    "    return Z \n",
    "\n",
    "a = np.array([1,2,3,4,5])\n",
    "# a= a.reshape(-1,1)\n",
    "ytr = a\n",
    "m =(ytr - np.mean(ytr))/np.std(ytr)"
   ]
  },
  {
   "cell_type": "code",
   "execution_count": 84,
   "metadata": {},
   "outputs": [
    {
     "name": "stdout",
     "output_type": "stream",
     "text": [
      "[-1.41421356 -0.70710678  0.          0.70710678  1.41421356]\n"
     ]
    }
   ],
   "source": [
    "print(m)"
   ]
  },
  {
   "cell_type": "code",
   "execution_count": null,
   "metadata": {},
   "outputs": [],
   "source": []
  },
  {
   "cell_type": "code",
   "execution_count": 88,
   "metadata": {},
   "outputs": [],
   "source": [
    "from sklearn.linear_model import Lasso\n",
    "\n",
    "def lasso_fit(xtr, xts, ytr, yts, a, b, lam):\n",
    "    \n",
    "    model = Lasso(alpha=lam)\n",
    "    \n",
    "    #Todo 1 p =100\n",
    "    alpha_range = np.random.uniform(a,b+1,100)\n",
    "    phi_tr = np.exp(-xtr[:,None]*alpha_range[None,:])\n",
    "    phi_ts = np.exp(-xts[:,None]*alpha_range[None,:])\n",
    "    \n",
    "    #Todo 2, fit the model\n",
    "    model.fit(phi_tr, ytr)\n",
    "    \n",
    "    #Todo 3, Test error\n",
    "    yhat = model.predict(phi_ts)\n",
    "    mse_test = np.mean((yhat-yts)**2)\n",
    "    print(\"the test error is \", mse_test)\n",
    "    \n",
    "    #Todo 4, Calculate alpha and beta\n",
    "    model_coeff = model.coef_\n",
    "    sorted_coeff = np.argsort(model_coeff)\n",
    "    index = sorted_coeff[3]\n",
    "    beta_3 = model_coeff[index]\n",
    "    alpha_3 = alpha_range[index]\n",
    "    \n",
    "    print(\"beta = {:2f} and alpha = {:2f} for k = 3\".format(beta_3, alpha_3))\n",
    "    \n",
    "    \n",
    "    \n",
    "lasso_fit(xtr, xts, ytr, yts, a, b, lam)\n",
    "    \n",
    "    \n",
    "    "
   ]
  },
  {
   "cell_type": "code",
   "execution_count": null,
   "metadata": {},
   "outputs": [],
   "source": []
  }
 ],
 "metadata": {
  "kernelspec": {
   "display_name": "Python 3",
   "language": "python",
   "name": "python3"
  },
  "language_info": {
   "codemirror_mode": {
    "name": "ipython",
    "version": 3
   },
   "file_extension": ".py",
   "mimetype": "text/x-python",
   "name": "python",
   "nbconvert_exporter": "python",
   "pygments_lexer": "ipython3",
   "version": "3.8.5"
  }
 },
 "nbformat": 4,
 "nbformat_minor": 2
}
