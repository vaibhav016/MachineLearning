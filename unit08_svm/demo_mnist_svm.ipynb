{
 "cells": [
  {
   "cell_type": "markdown",
   "metadata": {},
   "source": [
    "# Demo: SVM for MNIST Digit Recognition\n",
    "\n",
    "In this demo, you will learn to:\n",
    "* Load and display images\n",
    "* Formulate image classification problems\n",
    "* Explain the limitations of linear classifiers for image classification\n",
    "* Build a simple SVM image classifier \n",
    "* Save and load results using `pickle`.\n",
    "\n",
    "For data, we will use the classic [MNIST](https://en.wikipedia.org/wiki/MNIST_database) data set used to recognize hand-written digits.  The dataset was originally produced in the 1980s and is now widely-used in machine learning classes as a simple image classification problem.  "
   ]
  },
  {
   "cell_type": "markdown",
   "metadata": {},
   "source": [
    "## Loading the Data\n",
    "\n",
    "First, we load the standard packages."
   ]
  },
  {
   "cell_type": "code",
   "execution_count": 1,
   "metadata": {},
   "outputs": [],
   "source": [
    "import numpy as np\n",
    "import matplotlib\n",
    "import matplotlib.pyplot as plt"
   ]
  },
  {
   "cell_type": "markdown",
   "metadata": {},
   "source": [
    "Since the MNIST dataset is so widely-used, it comes in as a build-in dataset in many packages. In this lab, we will download the data from the Tensorflow package -- See here for [installations instructions](https://www.tensorflow.org/install).  You can get the data from other sources as well. \n",
    "\n",
    "In the Tensorflow dataset, the training and test data are represented as arrays:\n",
    "\n",
    "     Xtr.shape = 60000 x 28 x 28\n",
    "     Xts.shape = 10000 x 28 x 28\n",
    "     \n",
    "The test data consists of `60000` images of size `28 x 28` pixels; the test data consists of `10000` images."
   ]
  },
  {
   "cell_type": "code",
   "execution_count": 2,
   "metadata": {},
   "outputs": [
    {
     "name": "stdout",
     "output_type": "stream",
     "text": [
      "Xtr shape: (60000, 28, 28)\n",
      "Xts shape: (10000, 28, 28)\n"
     ]
    }
   ],
   "source": [
    "import tensorflow as tf\n",
    "\n",
    "(Xtr,ytr),(Xts,yts) = tf.keras.datasets.mnist.load_data()\n",
    "\n",
    "print('Xtr shape: %s' % str(Xtr.shape))\n",
    "print('Xts shape: %s' % str(Xts.shape))\n",
    "\n",
    "ntr = Xtr.shape[0]\n",
    "nts = Xts.shape[0]\n",
    "nrow = Xtr.shape[1]\n",
    "ncol = Xtr.shape[2]"
   ]
  },
  {
   "cell_type": "markdown",
   "metadata": {},
   "source": [
    "Each pixel value is from `[0,255]`.  For this lab, it will be convenient to recale the value to -1 to 1 and reshape it as a `ntr x npix` and `nts x npix`."
   ]
  },
  {
   "cell_type": "code",
   "execution_count": 3,
   "metadata": {},
   "outputs": [],
   "source": [
    "npix = nrow*ncol\n",
    "Xtr = 2*(Xtr/255 - 0.5)\n",
    "Xtr = Xtr.reshape((ntr,npix))\n",
    "\n",
    "Xts = 2*(Xts/255 - 0.5)\n",
    "Xts = Xts.reshape((nts,npix))"
   ]
  },
  {
   "cell_type": "code",
   "execution_count": 4,
   "metadata": {},
   "outputs": [
    {
     "data": {
      "image/png": "[encoded data removed]",
      "text/plain": [
       "<Figure size 720x216 with 8 Axes>"
      ]
     },
     "metadata": {},
     "output_type": "display_data"
    }
   ],
   "source": [
    "def plt_digit(ax, x):\n",
    "    nrow = 28\n",
    "    ncol = 28\n",
    "    xsq = x.reshape((nrow,ncol))\n",
    "    ax.imshow(xsq,  cmap='Greys_r')\n",
    "    ax.set_xticks([])\n",
    "    ax.set_yticks([])\n",
    "\n",
    "# Select random digits\n",
    "nplt = 8\n",
    "Iperm = np.random.permutation(ntr)\n",
    "\n",
    "# Plot the images using the subplot command\n",
    "fig, ax = plt.subplots(1,nplt,figsize=(10,3))\n",
    "for i in range(nplt):\n",
    "    ind = Iperm[i]\n",
    "    plt_digit(ax[i], Xtr[ind,:])"
   ]
  },
  {
   "cell_type": "markdown",
   "metadata": {},
   "source": [
    "## Trying a Logistic Regression Classifier\n",
    "\n",
    "To classify the digits, we will first use a logistic classifier.  We select a small number of samples for training. Generally, you would use more training samples, but the optimizer is very slow.  "
   ]
  },
  {
   "cell_type": "code",
   "execution_count": 5,
   "metadata": {},
   "outputs": [],
   "source": [
    "ntr1 = 5000\n",
    "Xtr1 = Xtr[Iperm[:ntr1],:]\n",
    "ytr1 = ytr[Iperm[:ntr1]]"
   ]
  },
  {
   "cell_type": "markdown",
   "metadata": {},
   "source": [
    "Now we run the optimizer.  I have placed the `verbose=1` option so that you can see the progress.  It may not appear in the browser but in the command line where you launched jupyter notebook.  This can take several minutes and will likely say that it ran out of iterations."
   ]
  },
  {
   "cell_type": "code",
   "execution_count": 6,
   "metadata": {},
   "outputs": [
    {
     "name": "stderr",
     "output_type": "stream",
     "text": [
      "[Parallel(n_jobs=1)]: Using backend SequentialBackend with 1 concurrent workers.\n",
      " This problem is unconstrained.\n"
     ]
    },
    {
     "name": "stdout",
     "output_type": "stream",
     "text": [
      "RUNNING THE L-BFGS-B CODE\n",
      "\n",
      "           * * *\n",
      "\n",
      "Machine precision = 2.220D-16\n",
      " N =         7850     M =           10\n",
      "\n",
      "At X0         0 variables are exactly at the bounds\n",
      "\n",
      "At iterate    0    f=  1.15129D+04    |proj g|=  5.85775D+02\n",
      "\n",
      "At iterate   50    f=  9.81937D+02    |proj g|=  2.18614D+01\n",
      "\n",
      "At iterate  100    f=  5.66187D+02    |proj g|=  7.76986D+00\n",
      "\n",
      "At iterate  150    f=  4.63369D+02    |proj g|=  7.27297D+00\n",
      "\n",
      "At iterate  200    f=  4.35205D+02    |proj g|=  2.82846D+00\n",
      "\n",
      "At iterate  250    f=  4.27481D+02    |proj g|=  1.07635D+00\n",
      "\n",
      "At iterate  300    f=  4.24964D+02    |proj g|=  9.18474D-01\n",
      "\n",
      "At iterate  350    f=  4.24130D+02    |proj g|=  3.52234D-01\n",
      "\n",
      "At iterate  400    f=  4.23872D+02    |proj g|=  2.60601D-01\n",
      "\n",
      "At iterate  450    f=  4.23783D+02    |proj g|=  1.40382D-01\n",
      "\n",
      "At iterate  500    f=  4.23752D+02    |proj g|=  8.07453D-02\n",
      "\n",
      "           * * *\n",
      "\n",
      "Tit   = total number of iterations\n",
      "Tnf   = total number of function evaluations\n",
      "Tnint = total number of segments explored during Cauchy searches\n",
      "Skip  = number of BFGS updates skipped\n",
      "Nact  = number of active bounds at final generalized Cauchy point\n",
      "Projg = norm of the final projected gradient\n",
      "F     = final function value\n",
      "\n",
      "           * * *\n",
      "\n",
      "   N    Tit     Tnf  Tnint  Skip  Nact     Projg        F\n",
      " 7850    500    532      1     0     0   8.075D-02   4.238D+02\n",
      "  F =   423.75209395563013     \n",
      "\n",
      "STOP: TOTAL NO. of ITERATIONS REACHED LIMIT                 \n"
     ]
    },
    {
     "name": "stderr",
     "output_type": "stream",
     "text": [
      "/Users/pei/miniforge3/lib/python3.9/site-packages/sklearn/linear_model/_logistic.py:814: ConvergenceWarning: lbfgs failed to converge (status=1):\n",
      "STOP: TOTAL NO. of ITERATIONS REACHED LIMIT.\n",
      "\n",
      "Increase the number of iterations (max_iter) or scale the data as shown in:\n",
      "    https://scikit-learn.org/stable/modules/preprocessing.html\n",
      "Please also refer to the documentation for alternative solver options:\n",
      "    https://scikit-learn.org/stable/modules/linear_model.html#logistic-regression\n",
      "  n_iter_i = _check_optimize_result(\n",
      "[Parallel(n_jobs=1)]: Done   1 out of   1 | elapsed:    8.7s finished\n"
     ]
    },
    {
     "data": {
      "text/plain": [
       "LogisticRegression(max_iter=500, verbose=1)"
      ]
     },
     "execution_count": 6,
     "metadata": {},
     "output_type": "execute_result"
    }
   ],
   "source": [
    "from sklearn import linear_model\n",
    "logreg = linear_model.LogisticRegression(verbose=1, solver='lbfgs',\\\n",
    "                                         max_iter=500)\n",
    "logreg.fit(Xtr1,ytr1)"
   ]
  },
  {
   "cell_type": "markdown",
   "metadata": {
    "collapsed": true
   },
   "source": [
    "Before continuing, since it takes so long to run the optimizer, let's save the results in a file.  You can use `pickle` module for this purpose."
   ]
  },
  {
   "cell_type": "code",
   "execution_count": 7,
   "metadata": {},
   "outputs": [],
   "source": [
    "import pickle\n",
    "\n",
    "with open( \"mnist_logreg.p\", \"wb\" ) as fp:\n",
    "    pickle.dump( [logreg, Xtr1, ytr1, Iperm],  fp)"
   ]
  },
  {
   "cell_type": "markdown",
   "metadata": {},
   "source": [
    "Then, we can recover the objects via the `pickle.load` command"
   ]
  },
  {
   "cell_type": "code",
   "execution_count": 8,
   "metadata": {},
   "outputs": [],
   "source": [
    "with open( \"mnist_logreg.p\", \"rb\" ) as fp:\n",
    "    logreg, Xtr1, ytr1, Iperm = pickle.load(fp)"
   ]
  },
  {
   "cell_type": "markdown",
   "metadata": {},
   "source": [
    "Now, we can measure the accuracy on the test data.  Again, we will test on a small sub-sample."
   ]
  },
  {
   "cell_type": "code",
   "execution_count": 9,
   "metadata": {},
   "outputs": [
    {
     "name": "stdout",
     "output_type": "stream",
     "text": [
      "Accuaracy = 0.889000\n"
     ]
    }
   ],
   "source": [
    "nts1 = 5000\n",
    "Iperm_ts = np.random.permutation(nts) \n",
    "Xts1 = Xts[Iperm_ts[:nts1],:]\n",
    "yts1 = yts[Iperm_ts[:nts1]]\n",
    "yhat = logreg.predict(Xts1)\n",
    "acc = np.mean(yhat == yts1)\n",
    "print('Accuaracy = {0:f}'.format(acc))"
   ]
  },
  {
   "cell_type": "markdown",
   "metadata": {},
   "source": [
    "You should get an accuracy of around 89%.  This may sounds OK, but it is actually very poor.  Had we increased the number of training samples, it would have improved to about 92%, but that is still very bad.  To illustrate, let's plot some of the errors.  "
   ]
  },
  {
   "cell_type": "code",
   "execution_count": 10,
   "metadata": {},
   "outputs": [
    {
     "data": {
      "image/png": "[encoded data removed]",
      "text/plain": [
       "<Figure size 720x288 with 4 Axes>"
      ]
     },
     "metadata": {},
     "output_type": "display_data"
    }
   ],
   "source": [
    "nplt = 4\n",
    "Ierr = np.where(yts1 != yhat)[0]\n",
    "\n",
    "fig, ax = plt.subplots(1,nplt,figsize=(10, 4))\n",
    "for i in range(nplt):        \n",
    "    ind = Ierr[i]    \n",
    "    plt_digit(ax[i], Xts1[ind,:])        \n",
    "    title = 'true={0:d} est={1:d}'.format(yts1[ind].astype(int), yhat[ind].astype(int))\n",
    "    ax[i].set_title(title)"
   ]
  },
  {
   "cell_type": "markdown",
   "metadata": {},
   "source": [
    "Obviously, some of these digits are very easy to classify for a human.  We can get more fine-grained analysis of the digit errors by computing the confusion matrix."
   ]
  },
  {
   "cell_type": "code",
   "execution_count": 11,
   "metadata": {},
   "outputs": [
    {
     "name": "stdout",
     "output_type": "stream",
     "text": [
      "[[0.942 0.    0.008 0.002 0.004 0.018 0.013 0.008 0.006 0.   ]\n",
      " [0.    0.976 0.002 0.002 0.002 0.004 0.    0.    0.018 0.   ]\n",
      " [0.01  0.012 0.846 0.015 0.025 0.009 0.011 0.025 0.038 0.01 ]\n",
      " [0.008 0.002 0.03  0.873 0.004 0.034 0.002 0.02  0.028 0.008]\n",
      " [0.008 0.    0.004 0.    0.9   0.004 0.017 0.002 0.01  0.056]\n",
      " [0.014 0.005 0.006 0.048 0.01  0.823 0.019 0.008 0.038 0.008]\n",
      " [0.01  0.003 0.01  0.    0.018 0.009 0.936 0.    0.01  0.   ]\n",
      " [0.002 0.014 0.018 0.008 0.018 0.002 0.002 0.892 0.002 0.044]\n",
      " [0.019 0.014 0.012 0.025 0.006 0.056 0.017 0.012 0.82  0.025]\n",
      " [0.01  0.003 0.006 0.015 0.037 0.011 0.    0.029 0.02  0.863]]\n"
     ]
    },
    {
     "data": {
      "text/plain": [
       "<matplotlib.colorbar.Colorbar at 0x1694516a0>"
      ]
     },
     "execution_count": 11,
     "metadata": {},
     "output_type": "execute_result"
    },
    {
     "data": {
      "image/png": "[encoded data removed]",
      "text/plain": [
       "<Figure size 432x288 with 2 Axes>"
      ]
     },
     "metadata": {
      "needs_background": "light"
     },
     "output_type": "display_data"
    }
   ],
   "source": [
    "from sklearn.metrics import confusion_matrix\n",
    "C = confusion_matrix(yts1,yhat)\n",
    "\n",
    "# Normalize the confusion matrix\n",
    "Csum = np.sum(C,1)\n",
    "C = C / Csum[None,:]\n",
    "\n",
    "# Print the confusion matrix\n",
    "print(np.array_str(C, precision=3, suppress_small=True))\n",
    "plt.imshow(C, interpolation='none')\n",
    "plt.colorbar()"
   ]
  },
  {
   "cell_type": "markdown",
   "metadata": {},
   "source": [
    "## Visualizing the Weights\n",
    "\n",
    "To see the problem with the logistic classifier, it is useful to plot the weights for each digit.  "
   ]
  },
  {
   "cell_type": "code",
   "execution_count": 12,
   "metadata": {},
   "outputs": [
    {
     "data": {
      "image/png": "[encoded data removed]",
      "text/plain": [
       "<Figure size 720x360 with 10 Axes>"
      ]
     },
     "metadata": {},
     "output_type": "display_data"
    }
   ],
   "source": [
    "W = logreg.coef_\n",
    "ndigit = W.shape[0]\n",
    "fig, ax = plt.subplots(2,5,figsize=(10, 5))\n",
    "for i in range(ndigit):\n",
    "    irow = i // 5\n",
    "    icol = i % 5\n",
    "    plt_digit(ax[irow,icol], W[i,:])"
   ]
  },
  {
   "cell_type": "markdown",
   "metadata": {},
   "source": [
    "What you see is that each weight is a very blurry version of the digit.  The blurriness is due to the fact that weight must correlate with all shifts, rotations and other variations of the digits.  As a result, the weights begin to correlate with other incorrect digits leading to poor performance."
   ]
  },
  {
   "cell_type": "markdown",
   "metadata": {},
   "source": [
    "To illustrate this problem more clearly, the code below does the following:\n",
    "\n",
    "*  Takes `nplot=8` random training digits with the label 2 and `nplot=8` that are not the digit 2.\n",
    "*  Finds a weight `w` to the first of the digits with the label 2.\n",
    "*  Plots the all the digits `x` and their correlation with the weight `z = w.dot(x)`\n",
    "\n",
    "We see that the correlation `z` is not consistently higher for the digits 2 instead of the non-digit 2.\n",
    "Therefore, if we try to use a linear classifier with this weight we would make a lot of errors."
   ]
  },
  {
   "cell_type": "code",
   "execution_count": 13,
   "metadata": {
    "scrolled": true
   },
   "outputs": [
    {
     "data": {
      "image/png": "[encoded data removed]",
      "text/plain": [
       "<Figure size 864x432 with 16 Axes>"
      ]
     },
     "metadata": {},
     "output_type": "display_data"
    }
   ],
   "source": [
    "# Find digits with 2 and digits that are not 2\n",
    "idig = 2\n",
    "Idig   = np.where(ytr==idig)[0]\n",
    "Inodig = np.where(ytr!=idig)[0]\n",
    "n = len(Idig)\n",
    "Idig = Idig[np.random.permutation(n)]\n",
    "n = len(Inodig)\n",
    "Inodig = Inodig[np.random.permutation(n)]\n",
    "\n",
    "# Set the weight to the first digit\n",
    "w = Xtr[Idig[0],:]\n",
    "w = w / (np.sum(w**2))\n",
    "\n",
    "# Find the correlation coefficient with the other digits 7\n",
    "nplot = 8\n",
    "fig, ax = plt.subplots(2,nplot,figsize=(12, 6))\n",
    "rho = np.zeros(nplot)\n",
    "for i in range(nplot):\n",
    "    # Get a true and false digit\n",
    "    j0 = Idig[i]\n",
    "    j1 = Inodig[i]\n",
    "    x0 = Xtr[j0,:]\n",
    "    x1 = Xtr[j1,:]\n",
    "    \n",
    "    # Compute the correlations with the two digits\n",
    "    rho0 = w.dot(x0)\n",
    "    rho1 = w.dot(x1)\n",
    "    \n",
    "    plt_digit(ax[0,i], x0)    \n",
    "    ax[0,i].set_title('%5.3f' % rho0)\n",
    "    plt_digit(ax[1,i], x1)\n",
    "    ax[1,i].set_title('%5.3f' % rho1)\n",
    "\n",
    "plt.tight_layout()"
   ]
  },
  {
   "cell_type": "markdown",
   "metadata": {},
   "source": [
    "## In-Class Exercise\n",
    "\n",
    "Let's try to build a simple linear classifier to detect if a digit is a 2 or not.\n",
    "*  Set the binary label `q[i] = 1` if `ytr[i] == 2` and `q[i] = 0` if `ytr[i] != 2`.\n",
    "*  Set the weight `w` = average of `Xtr[i,:]`, the `q[i] == 1`.\n",
    "*  Plot `w`.  You can use the `plt_digit` command with `ax = plt.gca()`\n",
    "*  Compute `z[i] = Xtr[i,:].dot(w)`.  This is the linear correlation of the weight with all the training digits.\n",
    "*  Plot the CDF of `z[i]` for `q[i] = 0` and the CDF of `z[i]` for `q[i] = 1`.\n",
    "*  Consider the classifier:\n",
    "    \n",
    "       qhat[i] = 1,   if z[i] > t\n",
    "               = 0,   if z[i] <= t\n",
    "          \n",
    "   For some threshold `t`.  What does the above CDFs tell you about the accuracy achievable with this classifier."
   ]
  },
  {
   "cell_type": "code",
   "execution_count": 14,
   "metadata": {},
   "outputs": [],
   "source": [
    "#TODO"
   ]
  },
  {
   "cell_type": "markdown",
   "metadata": {},
   "source": [
    "## Run an SVM classifier\n",
    "\n",
    "We now try an SVM classifier.  The parameters are given by \n",
    "\n",
    "https://martin-thoma.com/svm-with-sklearn/\n",
    "\n",
    "This website has a nice summary of the main equations for SVM as well.  That site trained on 40000 samples and tested on 20000.  But, to make this run faster, we will train on 10000 and test on 10000.  If you increase to 40000 training samples, you can get past 99% accuracy.\n",
    "\n",
    "First, we import the SVM package and construct the SVC with the parameters."
   ]
  },
  {
   "cell_type": "markdown",
   "metadata": {},
   "source": [
    "## First let us try the linear kernel"
   ]
  },
  {
   "cell_type": "code",
   "execution_count": 15,
   "metadata": {},
   "outputs": [],
   "source": [
    "from sklearn import svm\n",
    "\n",
    "# Create a classifier: a support vector classifier\n",
    "# svc = svm.SVC(probability=False,  kernel=\"rbf\", C=2.8, gamma=.0073,verbose=10)\n",
    "svc = svm.SVC(probability=False,  kernel=\"linear\", C=2.8, gamma=.0073,verbose=10)"
   ]
  },
  {
   "cell_type": "markdown",
   "metadata": {},
   "source": [
    "Next, we get the training and test data.  The features are re-scaled to be between -1 and 1."
   ]
  },
  {
   "cell_type": "markdown",
   "metadata": {},
   "source": [
    "We fit the training data.  Again, this will take several minutes."
   ]
  },
  {
   "cell_type": "code",
   "execution_count": 16,
   "metadata": {},
   "outputs": [],
   "source": [
    "ntr1 = 5000\n",
    "nts1 = 5000\n",
    "Xtr1 = Xtr[Iperm[:ntr1],:]\n",
    "ytr1 = ytr[Iperm[:ntr1]]\n",
    "Xts1 = Xts[Iperm_ts[:nts1],:]\n",
    "yts1 = yts[Iperm_ts[:nts1]]"
   ]
  },
  {
   "cell_type": "code",
   "execution_count": null,
   "metadata": {},
   "outputs": [
    {
     "name": "stdout",
     "output_type": "stream",
     "text": [
      "[LibSVM]*.*\n",
      "optimization finished, #iter = 1061\n",
      "obj = -0.693610, rho = -1.749174\n",
      "nSV = 84, nBSV = 0\n",
      "..................................*..............*\n",
      "optimization finished, #iter = 48894\n",
      "obj = -44.167804, rho = 16.858269\n",
      "nSV = 314, nBSV = 0\n",
      "............*.......*\n",
      "optimization finished, #iter = 19051\n",
      "obj = -10.484933, rho = 12.331035\n",
      "nSV = 245, nBSV = 0\n",
      "...*.*\n",
      "optimization finished, #iter = 4761\n",
      "obj = -3.825533, rho = 2.811385\n",
      "nSV = 168, nBSV = 0\n",
      "..........................................................................................*...............................................................................................*........................................................*\n",
      "optimization finished, #iter = 241926\n",
      "obj = -157.795531, rho = 26.675990\n",
      "nSV = 373, nBSV = 10\n",
      "........................*............*.*\n",
      "optimization finished, #iter = 36937\n",
      "obj = -38.479704, rho = 1.173962\n",
      "nSV = 275, nBSV = 0\n",
      "..*.*\n",
      "optimization finished, #iter = 3695\n",
      "obj = -2.622897, rho = -0.031456\n",
      "nSV = 161, nBSV = 0\n",
      "...........................................*.........................*\n",
      "optimization finished, #iter = 68146\n",
      "obj = -64.983797, rho = 12.066650\n",
      "nSV = 295, nBSV = 1\n",
      ".........*.....*\n",
      "optimization finished, #iter = 14643\n",
      "obj = -10.290613, rho = 4.688524\n",
      "nSV = 224, nBSV = 0\n",
      ".......................................*.....................*\n",
      "optimization finished, #iter = 60564\n",
      "obj = -88.566487, rho = 30.593569\n",
      "nSV = 306, nBSV = 2\n",
      "..........................*................*\n",
      "optimization finished, #iter = 42237\n",
      "obj = -51.348806, rho = 22.547830\n",
      "nSV = 272, nBSV = 0\n",
      "....*..*\n",
      "optimization finished, #iter = 6582\n",
      "obj = -8.619113, rho = -2.530338\n",
      "nSV = 169, nBSV = 0\n",
      "....*.....*\n",
      "optimization finished, #iter = 9544\n",
      "obj = -7.257865, rho = 16.388734\n",
      "nSV = 203, nBSV = 0\n",
      ".*.*\n",
      "optimization finished, #iter = 2172\n",
      "obj = -1.689577, rho = 2.006723\n",
      "nSV = 121, nBSV = 0\n",
      "....*..*\n",
      "optimization finished, #iter = 6702\n",
      "obj = -15.139013, rho = 14.216136\n",
      "nSV = 165, nBSV = 0\n",
      "...................................................................................................................................*..........................................................................................................................................*......*\n",
      "optimization finished, #iter = 275566\n",
      "obj = -418.272148, rho = 28.867909\n",
      "nSV = 413, nBSV = 64\n",
      "......*....*\n",
      "optimization finished, #iter = 10490\n",
      "obj = -15.702927, rho = 5.522743\n",
      "nSV = 179, nBSV = 0\n",
      ".............................................................................................................................................................................................................................................................................................................................................................................................................................................................................................................................................*...............................................................................................................................................................................................................................................................................................................................................................................................................................................................................................................................................................................................................................................................................................................................................................................................................................................................................................................................................................................................................................................................................................................................................................................................................................................................................................................................*.........................................................................................................................................................................................................................................................................................................................................................................................................................................................................................................................................................................................................................................................................................................................................................................................................................................................................................................................................................................................................................................................................................................................................*................................................................................................................................................................................................................................................................................................................*\n",
      "optimization finished, #iter = 3204066\n",
      "obj = -1354.242636, rho = 6.474983\n",
      "nSV = 791, nBSV = 314\n",
      ".............................................................................................................................*............................................................................................................................*.........................*\n",
      "optimization finished, #iter = 274636\n",
      "obj = -248.865586, rho = -23.565404\n",
      "nSV = 436, nBSV = 23\n",
      ".................................................................................................................................................................................................................*..................................................................................................................................................................................................................*..........................................................................................................................*\n",
      "optimization finished, #iter = 541486\n",
      "obj = -342.875347, rho = -16.591446\n",
      "nSV = 459, nBSV = 34\n",
      "........................................................................................................................................*................................................................................................................*.............................................*\n",
      "optimization finished, #iter = 292915\n",
      "obj = -292.771922, rho = -22.132809\n",
      "nSV = 434, nBSV = 31\n",
      ".........................................................................................................................*.............................................................................................................................................*....................*\n",
      "optimization finished, #iter = 281921\n",
      "obj = -222.535585, rho = -21.278500\n",
      "nSV = 421, nBSV = 21\n"
     ]
    },
    {
     "name": "stdout",
     "output_type": "stream",
     "text": [
      "...........................................................................................................................................................................................................................................................................................................................................................................................................................................................*..........................................................................................................................................................................................................................................................................................................................................................................................................................................................................................................................................................................................................................................................................................................................................................................................................................................................*...................................................................................................................................................................................................................................................................................................................................................................................*.........................................................*\n",
      "optimization finished, #iter = 1696997\n",
      "obj = -1203.732879, rho = -25.775768\n",
      "nSV = 723, nBSV = 267\n",
      "...............................................................*...........................................*\n",
      "optimization finished, #iter = 106476\n",
      "obj = -86.807808, rho = -18.419545\n",
      "nSV = 346, nBSV = 2\n",
      "........*....*\n",
      "optimization finished, #iter = 12832\n",
      "obj = -11.739990, rho = -8.538606\n",
      "nSV = 234, nBSV = 0\n",
      "...................................................................................................................................................................................................................................................................................................................................................................................................................................................................................................................................................................................................................................................................................*............................................................................................................................................................................................................................................................................................................................................................................................................................................................................................................................................................................................................................................................................................................................................................................................................................................................................................................................................................*.................................................................................................................................................................................................................................................................................................................................................................................................................................................................................................................................................................................................................................................................................................................................................................................................................................................................................................................................................................................................................................................*...............................................................................................................................................*\n",
      "optimization finished, #iter = 2735107\n",
      "obj = -1899.250311, rho = 9.008828\n",
      "nSV = 985, nBSV = 511\n",
      ".....*...*\n",
      "optimization finished, #iter = 8300\n",
      "obj = -5.239328, rho = -5.300510\n",
      "nSV = 205, nBSV = 0\n",
      "..........................................................................*..............................................................*......*\n",
      "optimization finished, #iter = 142727\n",
      "obj = -181.623908, rho = -35.987234\n",
      "nSV = 384, nBSV = 17\n",
      "................................................................................................................................................................................................................................................................................................................................................................................................................................................................................................................................................................................................................................................................................................................................................................................................................*....................................................................................................................................................................................................................................................................................................................................................................................................................................................................................................................................................................................................................................................................................................................................................................................................................................................................................................................................................................................................................................................................................................................................................................................................................................................................................................................................................................................................................................................................................................................................................................................................................................................................................*...................................................................................................................................................................................................................................................................................................................................................................................................................................................................................................................................................*....*\n",
      "optimization finished, #iter = 2938622\n",
      "obj = -1896.252100, rho = -30.705564\n",
      "nSV = 951, nBSV = 488\n"
     ]
    },
    {
     "name": "stdout",
     "output_type": "stream",
     "text": [
      "...................................................................................................................................................*..................................................................................................................................................................................................*...........................*\n",
      "optimization finished, #iter = 367521\n",
      "obj = -379.508447, rho = -40.704149\n",
      "nSV = 437, nBSV = 61\n",
      "...........................*...............*\n",
      "optimization finished, #iter = 42970\n",
      "obj = -35.440386, rho = 18.949308\n",
      "nSV = 309, nBSV = 0\n",
      "........................*.................*\n",
      "optimization finished, #iter = 41349\n",
      "obj = -34.104880, rho = 11.090530\n",
      "nSV = 305, nBSV = 0\n",
      "...............................................................*...........................................*..........*\n",
      "optimization finished, #iter = 116808\n",
      "obj = -108.694863, rho = -0.463875\n",
      "nSV = 340, nBSV = 2\n",
      "..............*.........*\n",
      "optimization finished, #iter = 23574\n",
      "obj = -21.832730, rho = 8.474159\n",
      "nSV = 266, nBSV = 0\n",
      "......................................................................................................................................................................................................................................................................................................................................................................................................................................................................*.............................................................................................................................................................................................................................................................................................................................................................................................................................................................................................................................................................................................................*.................................................................................................................................................................................................................................................................................................................................................................................................................................................................................................................................................................................................................................................*.......................................................................................................................................................................................................................................................................................*...............*\n",
      "optimization finished, #iter = 1961650\n",
      "obj = -1423.020014, rho = 26.250800\n",
      "nSV = 808, nBSV = 372\n",
      ".....................................................................................................................................................*................................................................................................................................*.........................*\n",
      "optimization finished, #iter = 302293\n",
      "obj = -393.730297, rho = -33.010075\n",
      "nSV = 442, nBSV = 70\n",
      "...........*.......*\n",
      "optimization finished, #iter = 18143\n",
      "obj = -14.923169, rho = -7.386405\n",
      "nSV = 255, nBSV = 0\n",
      "................................................................................................................................................................................................................................................................................................................................................................................................................................................................................................................................................................................................................................................................................................................................................................................................................*............................................................................................................................................................................................................................................................................................................................................................................................................................................................................................................................................................................................................................................................................................................................................................................................................................................................................................................................................................................................................................................................................................................................................................................................................................................................................................................................................................................................................................*...........................................................................................................................................................................................................................................................................................................................................................................................................................................................................................................................................................................................................................................................................................................................................................................................................................................................................*............................................................................................................................................................................................................................................................................................................................................................................................................................................................................................................................................................................................................................................................................................................................*\n",
      "optimization finished, #iter = 3699037\n",
      "obj = -1776.814899, rho = -4.931465\n",
      "nSV = 927, nBSV = 446\n",
      ".................................................................................................................*..........................................................................................................................*..................*\n",
      "optimization finished, #iter = 253724\n",
      "obj = -208.833565, rho = -35.408661\n",
      "nSV = 391, nBSV = 17\n",
      ".*.*\n",
      "optimization finished, #iter = 2354\n",
      "obj = -1.024745, rho = 0.491406\n",
      "nSV = 146, nBSV = 0\n",
      ".....................................*........................*\n",
      "optimization finished, #iter = 61422\n",
      "obj = -57.165650, rho = 6.676900\n",
      "nSV = 289, nBSV = 0\n",
      ".*.*\n",
      "optimization finished, #iter = 2873\n",
      "obj = -1.482441, rho = 1.893047\n",
      "nSV = 147, nBSV = 0\n",
      "......................*.................*\n",
      "optimization finished, #iter = 39690\n"
     ]
    },
    {
     "name": "stdout",
     "output_type": "stream",
     "text": [
      "obj = -31.360995, rho = 4.932797\n",
      "nSV = 282, nBSV = 0\n"
     ]
    }
   ],
   "source": [
    "svc.fit(Xtr,ytr)"
   ]
  },
  {
   "cell_type": "markdown",
   "metadata": {},
   "source": [
    "Save the results in case you want them without re-running the above the code."
   ]
  },
  {
   "cell_type": "code",
   "execution_count": null,
   "metadata": {},
   "outputs": [],
   "source": [
    "import pickle\n",
    "\n",
    "with open( \"mnist_svc.p\", \"wb\" ) as fp:\n",
    "    pickle.dump( [svc, Xtr1,ytr1], fp)"
   ]
  },
  {
   "cell_type": "markdown",
   "metadata": {},
   "source": [
    "We can reload the data"
   ]
  },
  {
   "cell_type": "code",
   "execution_count": null,
   "metadata": {},
   "outputs": [],
   "source": [
    "# Can skip this step if you run the classifier directly\n",
    "import pickle\n",
    "with open( \"mnist_svc.p\", \"rb\" ) as fp:\n",
    "    svc, Xtr1,ytr1 = pickle.load(fp)"
   ]
  },
  {
   "cell_type": "markdown",
   "metadata": {},
   "source": [
    "Measure the accuracy on the test data.  The prediction can take several minutes too -- SVMs are *very* slow!"
   ]
  },
  {
   "cell_type": "code",
   "execution_count": null,
   "metadata": {},
   "outputs": [],
   "source": [
    "yhat_ts = svc.predict(Xts1)"
   ]
  },
  {
   "cell_type": "markdown",
   "metadata": {},
   "source": [
    "Since even the prediction (sometimes called inference) is slow with SVMs, we will save the results in `pickle` file. Instead of running the prediction again, you can recapture the data with the following comamnd"
   ]
  },
  {
   "cell_type": "code",
   "execution_count": null,
   "metadata": {},
   "outputs": [],
   "source": [
    "with open(\"mnist_svc_test.p\", \"wb\") as fp:\n",
    "    pickle.dump([Xts1,yts1,yhat_ts], fp)"
   ]
  },
  {
   "cell_type": "code",
   "execution_count": null,
   "metadata": {},
   "outputs": [],
   "source": [
    "with open(\"mnist_svc_test.p\", \"rb\") as fp:\n",
    "    Xts1,yts1,yhat_ts = pickle.load(fp)"
   ]
  },
  {
   "cell_type": "code",
   "execution_count": null,
   "metadata": {},
   "outputs": [],
   "source": [
    "acc = np.mean(yhat_ts == yts1)\n",
    "print('Accuaracy = {0:f}'.format(acc))"
   ]
  },
  {
   "cell_type": "markdown",
   "metadata": {},
   "source": [
    "You should get an accuracy of around 93%.  Again, had you trained on all 50,000 samples, it would have been much better -- close to 98.5%.  But, even this result is much better than logistic regression."
   ]
  },
  {
   "cell_type": "markdown",
   "metadata": {},
   "source": [
    "## Looking at the Support Vectors\n",
    "\n",
    "Let's take a look at the support vectors.  We see there about over 2500 support vectors.  So, about quarter the training samples were used as SVs.  This is partly why the prediction was so slow."
   ]
  },
  {
   "cell_type": "code",
   "execution_count": null,
   "metadata": {},
   "outputs": [],
   "source": [
    "S = svc.support_vectors_\n",
    "S.shape"
   ]
  },
  {
   "cell_type": "markdown",
   "metadata": {},
   "source": [
    "Let us plot some support vectors"
   ]
  },
  {
   "cell_type": "code",
   "execution_count": null,
   "metadata": {},
   "outputs": [],
   "source": [
    "nplt = 4\n",
    "nsv = S.shape[0]\n",
    "Iperms = np.random.permutation(nsv)\n",
    "fig, ax = plt.subplots(1,nplt,figsize=(10, 4))\n",
    "for i in range(nplt):                \n",
    "    ind = Iperms[i]\n",
    "    plt_digit(ax[i], S[ind,:])   "
   ]
  },
  {
   "cell_type": "markdown",
   "metadata": {},
   "source": [
    "We see that the support vectors look like digits we want to recognize. They are like the 'match filters'."
   ]
  },
  {
   "cell_type": "markdown",
   "metadata": {},
   "source": [
    "## Now let us see the performanc of SVM using the RBF kernel\n",
    "\n",
    "The main benefit of the SVMs is that they can provide nonlinear classification rules.  We can do this with a RBF kernel.  We first fit this as before -- again this will take a long time!  "
   ]
  },
  {
   "cell_type": "code",
   "execution_count": null,
   "metadata": {},
   "outputs": [],
   "source": [
    "# Create a classifier: a support vector classifier\n",
    "svcrbf = svm.SVC(probability=False,  kernel=\"rbf\", C=2.8, gamma=.0073,verbose=10)"
   ]
  },
  {
   "cell_type": "code",
   "execution_count": null,
   "metadata": {},
   "outputs": [],
   "source": [
    "# Can skip this step if loading from previous result \n",
    "svcrbf.fit(Xtr1,ytr1)\n",
    "import pickle\n",
    "with open( \"mnist_svcrbf.p\", \"wb\" ) as fp:\n",
    "    pickle.dump( [svcrbf, Xtr1, ytr1], fp)\n",
    "    "
   ]
  },
  {
   "cell_type": "code",
   "execution_count": null,
   "metadata": {},
   "outputs": [],
   "source": [
    "# Can skip if you run the previous cell\n",
    "import pickle\n",
    "with open( \"mnist_svcrbf.p\", \"rb\" ) as fp:\n",
    "    svcrbf, Xtr1, ytr1 = pickle.load(fp)"
   ]
  },
  {
   "cell_type": "markdown",
   "metadata": {},
   "source": [
    "Make the predictions and save the results and measure the accuracy"
   ]
  },
  {
   "cell_type": "code",
   "execution_count": null,
   "metadata": {},
   "outputs": [],
   "source": [
    "# skip if load from saved result\n",
    "yhat_ts = svcrbf.predict(Xts1)\n",
    "\n",
    "with open(\"mnist_svcrbf_test.p\", \"wb\") as fp:\n",
    "    pickle.dump([yhat_ts,yts1,Xts1], fp)"
   ]
  },
  {
   "cell_type": "code",
   "execution_count": null,
   "metadata": {},
   "outputs": [],
   "source": [
    "# skip if you run the previouse cell\n",
    "with open(\"mnist_svcrbf_test.p\", \"rb\") as fp:\n",
    "    yhat_ts,yts1,Xts1 = pickle.load(fp)"
   ]
  },
  {
   "cell_type": "code",
   "execution_count": null,
   "metadata": {},
   "outputs": [],
   "source": [
    "acc = np.mean(yhat_ts == yts1)\n",
    "print('Accuaracy = {0:f}'.format(acc))"
   ]
  },
  {
   "cell_type": "markdown",
   "metadata": {},
   "source": [
    "We see that the RBF kernel provides more accurate results. \n",
    "Now let us plot some errors"
   ]
  },
  {
   "cell_type": "code",
   "execution_count": null,
   "metadata": {},
   "outputs": [],
   "source": [
    "Ierr = np.where((yhat_ts != yts1))[0]\n",
    "nplt = 4\n",
    "fig, ax = plt.subplots(1,nplt,figsize=(10, 4))\n",
    "for i in range(nplt):             \n",
    "    ind = Ierr[i]    \n",
    "    plt_digit(ax[i], Xts1[ind,:])        \n",
    "    title = 'true={0:d} est={1:d}'.format(yts1[ind].astype(int), yhat_ts[ind].astype(int))\n",
    "    ax[i].set_title(title)"
   ]
  },
  {
   "cell_type": "markdown",
   "metadata": {},
   "source": [
    "We see that again a human would not have made these errors, but the digits in error are much less clear."
   ]
  },
  {
   "cell_type": "markdown",
   "metadata": {},
   "source": [
    "## Looking at the Support Vectors\n",
    "\n",
    "Let's take a look at the support vectors.  We see there about 5000 support vectors.  So, about half the training samples were used as SVs, more than that for the linear kernel.  This is partly why the prediction was so slow."
   ]
  },
  {
   "cell_type": "code",
   "execution_count": null,
   "metadata": {},
   "outputs": [],
   "source": [
    "S = svcrbf.support_vectors_\n",
    "S.shape"
   ]
  },
  {
   "cell_type": "markdown",
   "metadata": {
    "collapsed": true
   },
   "source": [
    "We can plot some of the vectors."
   ]
  },
  {
   "cell_type": "code",
   "execution_count": null,
   "metadata": {},
   "outputs": [],
   "source": [
    "nplt = 4\n",
    "nsv = S.shape[0]\n",
    "Iperms = np.random.permutation(nsv)\n",
    "fig, ax = plt.subplots(1,nplt,figsize=(10, 4))\n",
    "for i in range(nplt):        \n",
    "    ind = Iperms[i]\n",
    "    plt_digit(ax[i], S[ind,:])        "
   ]
  },
  {
   "cell_type": "markdown",
   "metadata": {
    "collapsed": true
   },
   "source": [
    "In this demo, we specified the parameters for the SVC. In the lab, you will be asked to find the optimal parameters through cross validation."
   ]
  },
  {
   "cell_type": "code",
   "execution_count": null,
   "metadata": {},
   "outputs": [],
   "source": []
  }
 ],
 "metadata": {
  "anaconda-cloud": {},
  "kernelspec": {
   "display_name": "Python 3 (ipykernel)",
   "language": "python",
   "name": "python3"
  },
  "language_info": {
   "codemirror_mode": {
    "name": "ipython",
    "version": 3
   },
   "file_extension": ".py",
   "mimetype": "text/x-python",
   "name": "python",
   "nbconvert_exporter": "python",
   "pygments_lexer": "ipython3",
   "version": "3.9.7"
  }
 },
 "nbformat": 4,
 "nbformat_minor": 1
}
